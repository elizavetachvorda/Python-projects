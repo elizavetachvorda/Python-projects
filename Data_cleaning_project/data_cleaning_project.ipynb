{
 "cells": [
  {
   "cell_type": "markdown",
   "id": "e4fb3b09-0adc-409d-ae54-6d836669c96a",
   "metadata": {},
   "source": [
    "# Data Cleaning Project: Audible Dataset\n",
    "## Introduction\n",
    "In this project I aim to go through the process of data cleaning of the [Audible dataset](https://www.kaggle.com/datasets/snehangsude/audible-dataset) where I address common data issues like duplicates, inconsistent formatting, missing values, and more. The data represents the important details of audiobooks from 1998 till 2025 (pre-planned releases).\n",
    "\n",
    "### Column Breakdown\n",
    "\n",
    "- `name`: Name of the audiobook\n",
    "- `author`: Author of the audiobook\n",
    "- `narrator`: Narrator of the audiobook\n",
    "- `time`: Length of the audiobook\n",
    "- `releasedate`: Release date of the audiobook\n",
    "- `language`: Language of the audiobook\n",
    "- `stars`: No. of stars the audiobook received\n",
    "- `price`: Price of the audiobook in INR\n",
    "- `ratings`: No. of reviews received by the audiobook\n",
    "\n",
    "\n",
    "### Step 1. Loading the Dataset and Initial Data Inspectation"
   ]
  },
  {
   "cell_type": "code",
   "execution_count": 379,
   "id": "f15f518c-7578-4cd4-868d-24fc29016fd2",
   "metadata": {},
   "outputs": [
    {
     "data": {
      "text/html": [
       "<div>\n",
       "<style scoped>\n",
       "    .dataframe tbody tr th:only-of-type {\n",
       "        vertical-align: middle;\n",
       "    }\n",
       "\n",
       "    .dataframe tbody tr th {\n",
       "        vertical-align: top;\n",
       "    }\n",
       "\n",
       "    .dataframe thead th {\n",
       "        text-align: right;\n",
       "    }\n",
       "</style>\n",
       "<table border=\"1\" class=\"dataframe\">\n",
       "  <thead>\n",
       "    <tr style=\"text-align: right;\">\n",
       "      <th></th>\n",
       "      <th>name</th>\n",
       "      <th>author</th>\n",
       "      <th>narrator</th>\n",
       "      <th>time</th>\n",
       "      <th>releasedate</th>\n",
       "      <th>language</th>\n",
       "      <th>stars</th>\n",
       "      <th>price</th>\n",
       "    </tr>\n",
       "  </thead>\n",
       "  <tbody>\n",
       "    <tr>\n",
       "      <th>0</th>\n",
       "      <td>Geronimo Stilton #11 &amp; #12</td>\n",
       "      <td>Writtenby:GeronimoStilton</td>\n",
       "      <td>Narratedby:BillLobely</td>\n",
       "      <td>2 hrs and 20 mins</td>\n",
       "      <td>04-08-08</td>\n",
       "      <td>English</td>\n",
       "      <td>5 out of 5 stars34 ratings</td>\n",
       "      <td>468.00</td>\n",
       "    </tr>\n",
       "    <tr>\n",
       "      <th>1</th>\n",
       "      <td>The Burning Maze</td>\n",
       "      <td>Writtenby:RickRiordan</td>\n",
       "      <td>Narratedby:RobbieDaymond</td>\n",
       "      <td>13 hrs and 8 mins</td>\n",
       "      <td>01-05-18</td>\n",
       "      <td>English</td>\n",
       "      <td>4.5 out of 5 stars41 ratings</td>\n",
       "      <td>820.00</td>\n",
       "    </tr>\n",
       "    <tr>\n",
       "      <th>2</th>\n",
       "      <td>The Deep End</td>\n",
       "      <td>Writtenby:JeffKinney</td>\n",
       "      <td>Narratedby:DanRussell</td>\n",
       "      <td>2 hrs and 3 mins</td>\n",
       "      <td>06-11-20</td>\n",
       "      <td>English</td>\n",
       "      <td>4.5 out of 5 stars38 ratings</td>\n",
       "      <td>410.00</td>\n",
       "    </tr>\n",
       "    <tr>\n",
       "      <th>3</th>\n",
       "      <td>Daughter of the Deep</td>\n",
       "      <td>Writtenby:RickRiordan</td>\n",
       "      <td>Narratedby:SoneelaNankani</td>\n",
       "      <td>11 hrs and 16 mins</td>\n",
       "      <td>05-10-21</td>\n",
       "      <td>English</td>\n",
       "      <td>4.5 out of 5 stars12 ratings</td>\n",
       "      <td>615.00</td>\n",
       "    </tr>\n",
       "    <tr>\n",
       "      <th>4</th>\n",
       "      <td>The Lightning Thief: Percy Jackson, Book 1</td>\n",
       "      <td>Writtenby:RickRiordan</td>\n",
       "      <td>Narratedby:JesseBernstein</td>\n",
       "      <td>10 hrs</td>\n",
       "      <td>13-01-10</td>\n",
       "      <td>English</td>\n",
       "      <td>4.5 out of 5 stars181 ratings</td>\n",
       "      <td>820.00</td>\n",
       "    </tr>\n",
       "  </tbody>\n",
       "</table>\n",
       "</div>"
      ],
      "text/plain": [
       "                                         name                     author  \\\n",
       "0                  Geronimo Stilton #11 & #12  Writtenby:GeronimoStilton   \n",
       "1                            The Burning Maze      Writtenby:RickRiordan   \n",
       "2                                The Deep End       Writtenby:JeffKinney   \n",
       "3                        Daughter of the Deep      Writtenby:RickRiordan   \n",
       "4  The Lightning Thief: Percy Jackson, Book 1      Writtenby:RickRiordan   \n",
       "\n",
       "                    narrator                time releasedate language  \\\n",
       "0      Narratedby:BillLobely   2 hrs and 20 mins    04-08-08  English   \n",
       "1   Narratedby:RobbieDaymond   13 hrs and 8 mins    01-05-18  English   \n",
       "2      Narratedby:DanRussell    2 hrs and 3 mins    06-11-20  English   \n",
       "3  Narratedby:SoneelaNankani  11 hrs and 16 mins    05-10-21  English   \n",
       "4  Narratedby:JesseBernstein              10 hrs    13-01-10  English   \n",
       "\n",
       "                           stars   price  \n",
       "0     5 out of 5 stars34 ratings  468.00  \n",
       "1   4.5 out of 5 stars41 ratings  820.00  \n",
       "2   4.5 out of 5 stars38 ratings  410.00  \n",
       "3   4.5 out of 5 stars12 ratings  615.00  \n",
       "4  4.5 out of 5 stars181 ratings  820.00  "
      ]
     },
     "execution_count": 379,
     "metadata": {},
     "output_type": "execute_result"
    }
   ],
   "source": [
    "import pandas as pd\n",
    "audible = pd.read_csv('audible_uncleaned.csv')\n",
    "audible.head()"
   ]
  },
  {
   "cell_type": "code",
   "execution_count": 380,
   "id": "31040d2c-0296-4c36-ab1c-3ac9a7e1053e",
   "metadata": {},
   "outputs": [
    {
     "data": {
      "text/html": [
       "<div>\n",
       "<style scoped>\n",
       "    .dataframe tbody tr th:only-of-type {\n",
       "        vertical-align: middle;\n",
       "    }\n",
       "\n",
       "    .dataframe tbody tr th {\n",
       "        vertical-align: top;\n",
       "    }\n",
       "\n",
       "    .dataframe thead th {\n",
       "        text-align: right;\n",
       "    }\n",
       "</style>\n",
       "<table border=\"1\" class=\"dataframe\">\n",
       "  <thead>\n",
       "    <tr style=\"text-align: right;\">\n",
       "      <th></th>\n",
       "      <th>name</th>\n",
       "      <th>author</th>\n",
       "      <th>narrator</th>\n",
       "      <th>time</th>\n",
       "      <th>releasedate</th>\n",
       "      <th>language</th>\n",
       "      <th>stars</th>\n",
       "      <th>price</th>\n",
       "    </tr>\n",
       "  </thead>\n",
       "  <tbody>\n",
       "    <tr>\n",
       "      <th>count</th>\n",
       "      <td>87489</td>\n",
       "      <td>87489</td>\n",
       "      <td>87489</td>\n",
       "      <td>87489</td>\n",
       "      <td>87489</td>\n",
       "      <td>87489</td>\n",
       "      <td>87489</td>\n",
       "      <td>87489</td>\n",
       "    </tr>\n",
       "    <tr>\n",
       "      <th>unique</th>\n",
       "      <td>82767</td>\n",
       "      <td>48374</td>\n",
       "      <td>29717</td>\n",
       "      <td>2284</td>\n",
       "      <td>5058</td>\n",
       "      <td>36</td>\n",
       "      <td>665</td>\n",
       "      <td>1011</td>\n",
       "    </tr>\n",
       "    <tr>\n",
       "      <th>top</th>\n",
       "      <td>The Art of War</td>\n",
       "      <td>Writtenby:矢島雅弘,石橋遊</td>\n",
       "      <td>Narratedby:anonymous</td>\n",
       "      <td>2 mins</td>\n",
       "      <td>16-05-18</td>\n",
       "      <td>English</td>\n",
       "      <td>Not rated yet</td>\n",
       "      <td>586.00</td>\n",
       "    </tr>\n",
       "    <tr>\n",
       "      <th>freq</th>\n",
       "      <td>20</td>\n",
       "      <td>874</td>\n",
       "      <td>1034</td>\n",
       "      <td>372</td>\n",
       "      <td>773</td>\n",
       "      <td>61884</td>\n",
       "      <td>72417</td>\n",
       "      <td>5533</td>\n",
       "    </tr>\n",
       "  </tbody>\n",
       "</table>\n",
       "</div>"
      ],
      "text/plain": [
       "                  name              author              narrator    time  \\\n",
       "count            87489               87489                 87489   87489   \n",
       "unique           82767               48374                 29717    2284   \n",
       "top     The Art of War  Writtenby:矢島雅弘,石橋遊  Narratedby:anonymous  2 mins   \n",
       "freq                20                 874                  1034     372   \n",
       "\n",
       "       releasedate language          stars   price  \n",
       "count        87489    87489          87489   87489  \n",
       "unique        5058       36            665    1011  \n",
       "top       16-05-18  English  Not rated yet  586.00  \n",
       "freq           773    61884          72417    5533  "
      ]
     },
     "execution_count": 380,
     "metadata": {},
     "output_type": "execute_result"
    }
   ],
   "source": [
    "audible.describe(include='all')"
   ]
  },
  {
   "cell_type": "code",
   "execution_count": 381,
   "id": "1e563265-0a54-4d11-9030-71124050e636",
   "metadata": {},
   "outputs": [
    {
     "name": "stdout",
     "output_type": "stream",
     "text": [
      "<class 'pandas.core.frame.DataFrame'>\n",
      "RangeIndex: 87489 entries, 0 to 87488\n",
      "Data columns (total 8 columns):\n",
      " #   Column       Non-Null Count  Dtype \n",
      "---  ------       --------------  ----- \n",
      " 0   name         87489 non-null  object\n",
      " 1   author       87489 non-null  object\n",
      " 2   narrator     87489 non-null  object\n",
      " 3   time         87489 non-null  object\n",
      " 4   releasedate  87489 non-null  object\n",
      " 5   language     87489 non-null  object\n",
      " 6   stars        87489 non-null  object\n",
      " 7   price        87489 non-null  object\n",
      "dtypes: object(8)\n",
      "memory usage: 5.3+ MB\n"
     ]
    }
   ],
   "source": [
    "audible.info()"
   ]
  },
  {
   "cell_type": "code",
   "execution_count": 410,
   "id": "95eec59d-9312-4c87-8a46-76aa9e68092c",
   "metadata": {},
   "outputs": [
    {
     "data": {
      "text/plain": [
       "name                   0\n",
       "author                 0\n",
       "narrator               0\n",
       "language               0\n",
       "stars                  0\n",
       "duration_in_minutes    0\n",
       "release_date           0\n",
       "ratings                0\n",
       "price                  0\n",
       "dtype: int64"
      ]
     },
     "execution_count": 410,
     "metadata": {},
     "output_type": "execute_result"
    }
   ],
   "source": [
    "audible.isnull().sum()"
   ]
  },
  {
   "cell_type": "markdown",
   "id": "b2ae368f-3829-4cf1-b2a1-5b94127f31b2",
   "metadata": {},
   "source": [
    "**Plan for Data Cleaning:**\n",
    "1. Check for **duplicates** in the data.\n",
    "2. Clean the 'author' column: Remove 'Writtenby:' and 'Narratedby:' prefixes, add spaces between name, middle, and last name, and handle multiple persons mentioned.\n",
    "3. Improve 'time' column: Convert to numeric or datetime format for better analysis.\n",
    "4. Refactor 'releasedate' column: Check for inconsistency and convert to the `date` data type.\n",
    "5. Ensure consistency in 'language' column: Capitalize uniformly, check for misspellings, and remove additional characters.\n",
    "6. Split 'stars' column into 'stars' and 'rating': Store in numeric format for analysis.\n",
    "7. Investigate 'price' column format: Change to `integer` or `float` as necessary; understand why it's stored as an `object`.\n"
   ]
  },
  {
   "cell_type": "markdown",
   "id": "10308a66-b518-4401-aa86-d116f9dfbe52",
   "metadata": {},
   "source": [
    "### Step 2. Check Duplicates"
   ]
  },
  {
   "cell_type": "code",
   "execution_count": 382,
   "id": "b7a4f1a9-4426-472a-ae29-8060d3f1fd0a",
   "metadata": {},
   "outputs": [
    {
     "data": {
      "text/plain": [
       "0"
      ]
     },
     "execution_count": 382,
     "metadata": {},
     "output_type": "execute_result"
    }
   ],
   "source": [
    "audible.duplicated().sum()"
   ]
  },
  {
   "cell_type": "markdown",
   "id": "6b0e8b78-fa3e-4e15-bcce-0aae57209813",
   "metadata": {},
   "source": [
    "### Step 3. Clean the 'author' column"
   ]
  },
  {
   "cell_type": "code",
   "execution_count": 383,
   "id": "0b54f43a-14d2-418f-a738-72210804e47a",
   "metadata": {},
   "outputs": [],
   "source": [
    "# remove the prefix \"Writtenby:\" and add space between name, middle, and last name of Authors\n",
    "audible['author'] = audible['author'].str.replace('Writtenby:', '', case=False).str.replace(r\"(\\w)([A-Z])\", r\"\\1 \\2\", regex = True)\n",
    "\n",
    "# remove the prefix \"Narratedby:\" and add space between name, middle, and last name of Narrators\n",
    "audible['narrator'] = audible['narrator'].str.replace('Narratedby:', '', case=False).str.replace(r\"(\\w)([A-Z])\", r\"\\1 \\2\", regex = True)\n"
   ]
  },
  {
   "cell_type": "code",
   "execution_count": 384,
   "id": "68002055-098f-4497-bdc3-417225594a25",
   "metadata": {},
   "outputs": [
    {
     "data": {
      "text/html": [
       "<div>\n",
       "<style scoped>\n",
       "    .dataframe tbody tr th:only-of-type {\n",
       "        vertical-align: middle;\n",
       "    }\n",
       "\n",
       "    .dataframe tbody tr th {\n",
       "        vertical-align: top;\n",
       "    }\n",
       "\n",
       "    .dataframe thead th {\n",
       "        text-align: right;\n",
       "    }\n",
       "</style>\n",
       "<table border=\"1\" class=\"dataframe\">\n",
       "  <thead>\n",
       "    <tr style=\"text-align: right;\">\n",
       "      <th></th>\n",
       "      <th>author</th>\n",
       "      <th>narrator</th>\n",
       "    </tr>\n",
       "  </thead>\n",
       "  <tbody>\n",
       "    <tr>\n",
       "      <th>0</th>\n",
       "      <td>Geronimo Stilton</td>\n",
       "      <td>Bill Lobely</td>\n",
       "    </tr>\n",
       "    <tr>\n",
       "      <th>1</th>\n",
       "      <td>Rick Riordan</td>\n",
       "      <td>Robbie Daymond</td>\n",
       "    </tr>\n",
       "    <tr>\n",
       "      <th>2</th>\n",
       "      <td>Jeff Kinney</td>\n",
       "      <td>Dan Russell</td>\n",
       "    </tr>\n",
       "    <tr>\n",
       "      <th>3</th>\n",
       "      <td>Rick Riordan</td>\n",
       "      <td>Soneela Nankani</td>\n",
       "    </tr>\n",
       "    <tr>\n",
       "      <th>4</th>\n",
       "      <td>Rick Riordan</td>\n",
       "      <td>Jesse Bernstein</td>\n",
       "    </tr>\n",
       "    <tr>\n",
       "      <th>5</th>\n",
       "      <td>Suzanne Collins</td>\n",
       "      <td>Tatiana Maslany</td>\n",
       "    </tr>\n",
       "    <tr>\n",
       "      <th>6</th>\n",
       "      <td>Winter Morgan</td>\n",
       "      <td>Luke Daniels</td>\n",
       "    </tr>\n",
       "    <tr>\n",
       "      <th>7</th>\n",
       "      <td>Rick Riordan</td>\n",
       "      <td>Robbie Daymond</td>\n",
       "    </tr>\n",
       "    <tr>\n",
       "      <th>8</th>\n",
       "      <td>Mary Pope Osborne</td>\n",
       "      <td>Mary Pope Osborne</td>\n",
       "    </tr>\n",
       "    <tr>\n",
       "      <th>9</th>\n",
       "      <td>Rick Riordan</td>\n",
       "      <td>Robbie Daymond</td>\n",
       "    </tr>\n",
       "    <tr>\n",
       "      <th>10</th>\n",
       "      <td>Rick Riordan</td>\n",
       "      <td>Jesse Bernstein</td>\n",
       "    </tr>\n",
       "  </tbody>\n",
       "</table>\n",
       "</div>"
      ],
      "text/plain": [
       "               author           narrator\n",
       "0    Geronimo Stilton        Bill Lobely\n",
       "1        Rick Riordan     Robbie Daymond\n",
       "2         Jeff Kinney        Dan Russell\n",
       "3        Rick Riordan    Soneela Nankani\n",
       "4        Rick Riordan    Jesse Bernstein\n",
       "5     Suzanne Collins    Tatiana Maslany\n",
       "6       Winter Morgan       Luke Daniels\n",
       "7        Rick Riordan     Robbie Daymond\n",
       "8   Mary Pope Osborne  Mary Pope Osborne\n",
       "9        Rick Riordan     Robbie Daymond\n",
       "10       Rick Riordan    Jesse Bernstein"
      ]
     },
     "execution_count": 384,
     "metadata": {},
     "output_type": "execute_result"
    }
   ],
   "source": [
    "# preview the data\n",
    "audible.loc[:10,['author', 'narrator']]"
   ]
  },
  {
   "cell_type": "markdown",
   "id": "64a4b166-dda0-4442-a80f-415ef039371f",
   "metadata": {},
   "source": [
    "### Step 4. Improve 'time' column"
   ]
  },
  {
   "cell_type": "code",
   "execution_count": 385,
   "id": "6181f7db-1ed1-450f-b60e-129c944daa2d",
   "metadata": {},
   "outputs": [
    {
     "data": {
      "text/plain": [
       "array([' hrs and  mins', ' hrs', ' hrs and  min', ' hr and  mins',\n",
       "       ' mins', ' hr', ' hr and  min', ' min', 'Less than  minute'],\n",
       "      dtype=object)"
      ]
     },
     "execution_count": 385,
     "metadata": {},
     "output_type": "execute_result"
    }
   ],
   "source": [
    "# see the phrases presented: replace all numbers with blanks\n",
    "time_column = audible.time.str.replace(r'[0-9]', '', regex = True)\n",
    "#keep only unique patterns\n",
    "time_column.unique()"
   ]
  },
  {
   "cell_type": "code",
   "execution_count": 386,
   "id": "cc3d567b-26cd-43aa-9659-22e0fb01d208",
   "metadata": {},
   "outputs": [],
   "source": [
    "# Define the conversion function:\n",
    "def convert_to_minutes(time_duration):\n",
    "    parts = time_duration.split()\n",
    "    duration_minutes = 0\n",
    "    for i in range(0, len(parts), 4):\n",
    "        if i + 1 < len(parts) and 'hr' in parts[i + 1]:\n",
    "            duration_minutes += int(parts[i]) * 60\n",
    "        if i + 3 < len(parts) and 'min' in parts[i + 3]:\n",
    "            duration_minutes += int(parts[i + 2])\n",
    "    return duration_minutes\n",
    "\n",
    "# Apply the function to the dataframe: \n",
    "audible['duration_in_minutes'] = audible['time'].apply(convert_to_minutes)   "
   ]
  },
  {
   "cell_type": "code",
   "execution_count": 422,
   "id": "b056d9be-918d-4a0d-9697-62cb9850c447",
   "metadata": {},
   "outputs": [
    {
     "data": {
      "text/plain": [
       "dtype('int64')"
      ]
     },
     "execution_count": 422,
     "metadata": {},
     "output_type": "execute_result"
    }
   ],
   "source": [
    "# check the data type\n",
    "audible['duration_in_minutes'].dtype"
   ]
  },
  {
   "cell_type": "code",
   "execution_count": 423,
   "id": "d255d1a6-b9ae-424b-82e9-62a9263277ed",
   "metadata": {},
   "outputs": [
    {
     "data": {
      "text/plain": [
       "count    87489.000000\n",
       "mean       389.374904\n",
       "std        363.609916\n",
       "min          0.000000\n",
       "25%        120.000000\n",
       "50%        360.000000\n",
       "75%        540.000000\n",
       "max       8580.000000\n",
       "Name: duration_in_minutes, dtype: float64"
      ]
     },
     "execution_count": 423,
     "metadata": {},
     "output_type": "execute_result"
    }
   ],
   "source": [
    "# review the data\n",
    "audible['duration_in_minutes'].describe()"
   ]
  },
  {
   "cell_type": "code",
   "execution_count": 389,
   "id": "c26e4fa9-cd8a-4523-acd0-e784f8e469d3",
   "metadata": {},
   "outputs": [],
   "source": [
    "# Once verified that the changes are correct, drop the 'time' column\n",
    "# Since the values were replaced with the 'duration_in_minutes' column\n",
    "audible.drop('time', axis=1, inplace=True)"
   ]
  },
  {
   "cell_type": "markdown",
   "id": "849afa23-8866-4b13-a051-227b12701f89",
   "metadata": {},
   "source": [
    "### Step 5. Refactor 'releasedate' column"
   ]
  },
  {
   "cell_type": "code",
   "execution_count": 390,
   "id": "e0f371c3-f500-4539-8f16-1bc9771c2d69",
   "metadata": {},
   "outputs": [],
   "source": [
    "# Convert the 'date' column to datetime\n",
    "audible['release_date'] = pd.to_datetime(audible['releasedate'], format = '%d-%m-%y',errors='coerce')"
   ]
  },
  {
   "cell_type": "code",
   "execution_count": 391,
   "id": "13f80f03-d0f3-4e1a-bac1-af4e92ebc05c",
   "metadata": {},
   "outputs": [
    {
     "data": {
      "text/html": [
       "<div>\n",
       "<style scoped>\n",
       "    .dataframe tbody tr th:only-of-type {\n",
       "        vertical-align: middle;\n",
       "    }\n",
       "\n",
       "    .dataframe tbody tr th {\n",
       "        vertical-align: top;\n",
       "    }\n",
       "\n",
       "    .dataframe thead th {\n",
       "        text-align: right;\n",
       "    }\n",
       "</style>\n",
       "<table border=\"1\" class=\"dataframe\">\n",
       "  <thead>\n",
       "    <tr style=\"text-align: right;\">\n",
       "      <th></th>\n",
       "      <th>name</th>\n",
       "      <th>author</th>\n",
       "      <th>narrator</th>\n",
       "      <th>releasedate</th>\n",
       "      <th>language</th>\n",
       "      <th>stars</th>\n",
       "      <th>price</th>\n",
       "      <th>duration_in_minutes</th>\n",
       "      <th>release_date</th>\n",
       "    </tr>\n",
       "  </thead>\n",
       "  <tbody>\n",
       "    <tr>\n",
       "      <th>0</th>\n",
       "      <td>Geronimo Stilton #11 &amp; #12</td>\n",
       "      <td>Geronimo Stilton</td>\n",
       "      <td>Bill Lobely</td>\n",
       "      <td>04-08-08</td>\n",
       "      <td>English</td>\n",
       "      <td>5 out of 5 stars34 ratings</td>\n",
       "      <td>468.00</td>\n",
       "      <td>120</td>\n",
       "      <td>2008-08-04</td>\n",
       "    </tr>\n",
       "    <tr>\n",
       "      <th>1</th>\n",
       "      <td>The Burning Maze</td>\n",
       "      <td>Rick Riordan</td>\n",
       "      <td>Robbie Daymond</td>\n",
       "      <td>01-05-18</td>\n",
       "      <td>English</td>\n",
       "      <td>4.5 out of 5 stars41 ratings</td>\n",
       "      <td>820.00</td>\n",
       "      <td>780</td>\n",
       "      <td>2018-05-01</td>\n",
       "    </tr>\n",
       "    <tr>\n",
       "      <th>2</th>\n",
       "      <td>The Deep End</td>\n",
       "      <td>Jeff Kinney</td>\n",
       "      <td>Dan Russell</td>\n",
       "      <td>06-11-20</td>\n",
       "      <td>English</td>\n",
       "      <td>4.5 out of 5 stars38 ratings</td>\n",
       "      <td>410.00</td>\n",
       "      <td>120</td>\n",
       "      <td>2020-11-06</td>\n",
       "    </tr>\n",
       "    <tr>\n",
       "      <th>3</th>\n",
       "      <td>Daughter of the Deep</td>\n",
       "      <td>Rick Riordan</td>\n",
       "      <td>Soneela Nankani</td>\n",
       "      <td>05-10-21</td>\n",
       "      <td>English</td>\n",
       "      <td>4.5 out of 5 stars12 ratings</td>\n",
       "      <td>615.00</td>\n",
       "      <td>660</td>\n",
       "      <td>2021-10-05</td>\n",
       "    </tr>\n",
       "    <tr>\n",
       "      <th>4</th>\n",
       "      <td>The Lightning Thief: Percy Jackson, Book 1</td>\n",
       "      <td>Rick Riordan</td>\n",
       "      <td>Jesse Bernstein</td>\n",
       "      <td>13-01-10</td>\n",
       "      <td>English</td>\n",
       "      <td>4.5 out of 5 stars181 ratings</td>\n",
       "      <td>820.00</td>\n",
       "      <td>600</td>\n",
       "      <td>2010-01-13</td>\n",
       "    </tr>\n",
       "  </tbody>\n",
       "</table>\n",
       "</div>"
      ],
      "text/plain": [
       "                                         name            author  \\\n",
       "0                  Geronimo Stilton #11 & #12  Geronimo Stilton   \n",
       "1                            The Burning Maze      Rick Riordan   \n",
       "2                                The Deep End       Jeff Kinney   \n",
       "3                        Daughter of the Deep      Rick Riordan   \n",
       "4  The Lightning Thief: Percy Jackson, Book 1      Rick Riordan   \n",
       "\n",
       "          narrator releasedate language                          stars  \\\n",
       "0      Bill Lobely    04-08-08  English     5 out of 5 stars34 ratings   \n",
       "1   Robbie Daymond    01-05-18  English   4.5 out of 5 stars41 ratings   \n",
       "2      Dan Russell    06-11-20  English   4.5 out of 5 stars38 ratings   \n",
       "3  Soneela Nankani    05-10-21  English   4.5 out of 5 stars12 ratings   \n",
       "4  Jesse Bernstein    13-01-10  English  4.5 out of 5 stars181 ratings   \n",
       "\n",
       "    price  duration_in_minutes release_date  \n",
       "0  468.00                  120   2008-08-04  \n",
       "1  820.00                  780   2018-05-01  \n",
       "2  410.00                  120   2020-11-06  \n",
       "3  615.00                  660   2021-10-05  \n",
       "4  820.00                  600   2010-01-13  "
      ]
     },
     "execution_count": 391,
     "metadata": {},
     "output_type": "execute_result"
    }
   ],
   "source": [
    "# review the data\n",
    "audible.head()"
   ]
  },
  {
   "cell_type": "code",
   "execution_count": 421,
   "id": "547234c6-b236-4a47-b5d4-c7f7ed2db195",
   "metadata": {},
   "outputs": [
    {
     "name": "stdout",
     "output_type": "stream",
     "text": [
      "<class 'pandas.core.series.Series'>\n",
      "RangeIndex: 87489 entries, 0 to 87488\n",
      "Series name: release_date\n",
      "Non-Null Count  Dtype         \n",
      "--------------  -----         \n",
      "87489 non-null  datetime64[ns]\n",
      "dtypes: datetime64[ns](1)\n",
      "memory usage: 683.6 KB\n"
     ]
    }
   ],
   "source": [
    "# Check the data type\n",
    "audible['release_date'].info()"
   ]
  },
  {
   "cell_type": "code",
   "execution_count": 393,
   "id": "fc9d1218-93a3-468b-9d51-3ce92dc9e20b",
   "metadata": {},
   "outputs": [],
   "source": [
    "# Now that we are confident the data in the 'releasedate' column is stored correctly with the right data type in a new column,\n",
    "# we can drop the previous one\n",
    "audible.drop('releasedate', axis=1, inplace=True)"
   ]
  },
  {
   "cell_type": "markdown",
   "id": "06c6b854-0316-417d-9b87-08d702ab729e",
   "metadata": {},
   "source": [
    "### Step 6. Ensure consistency in 'language' column"
   ]
  },
  {
   "cell_type": "code",
   "execution_count": 394,
   "id": "a410022f-6244-4624-bd0e-4eee3503b0c4",
   "metadata": {},
   "outputs": [
    {
     "data": {
      "text/plain": [
       "array(['English', 'Hindi', 'spanish', 'german', 'french', 'catalan',\n",
       "       'swedish', 'italian', 'danish', 'finnish', 'dutch', 'hebrew',\n",
       "       'russian', 'polish', 'galician', 'afrikaans', 'icelandic',\n",
       "       'romanian', 'japanese', 'tamil', 'portuguese', 'urdu', 'hungarian',\n",
       "       'czech', 'bulgarian', 'mandarin_chinese', 'basque', 'korean',\n",
       "       'arabic', 'greek', 'turkish', 'ukrainian', 'slovene', 'norwegian',\n",
       "       'telugu', 'lithuanian'], dtype=object)"
      ]
     },
     "execution_count": 394,
     "metadata": {},
     "output_type": "execute_result"
    }
   ],
   "source": [
    "# check for unique values\n",
    "audible.language.unique()"
   ]
  },
  {
   "cell_type": "code",
   "execution_count": 395,
   "id": "23a2db96-69d7-4bd6-a972-38cae44de2a2",
   "metadata": {},
   "outputs": [],
   "source": [
    "# Capitalize the first letter in the 'language' column\n",
    "audible['language'] = audible['language'].str.title()\n",
    "# Convert the 'language' column to string format\n",
    "audible['language'] = audible['language'].astype('string')"
   ]
  },
  {
   "cell_type": "code",
   "execution_count": 396,
   "id": "621ca3f0-cf5a-4938-adc0-7e2330a65259",
   "metadata": {},
   "outputs": [
    {
     "data": {
      "text/plain": [
       "language\n",
       "English             61884\n",
       "German               8295\n",
       "Spanish              3496\n",
       "Japanese             3167\n",
       "Italian              2694\n",
       "French               2386\n",
       "Russian              1804\n",
       "Danish                935\n",
       "Portuguese            526\n",
       "Swedish               515\n",
       "Hindi                 436\n",
       "Polish                224\n",
       "Finnish               197\n",
       "Dutch                 190\n",
       "Tamil                 161\n",
       "Catalan               153\n",
       "Mandarin_Chinese       97\n",
       "Icelandic              52\n",
       "Romanian               50\n",
       "Hungarian              36\n",
       "Urdu                   34\n",
       "Afrikaans              28\n",
       "Czech                  23\n",
       "Turkish                20\n",
       "Greek                  18\n",
       "Arabic                 16\n",
       "Norwegian              16\n",
       "Galician               10\n",
       "Bulgarian               9\n",
       "Korean                  4\n",
       "Slovene                 4\n",
       "Hebrew                  2\n",
       "Basque                  2\n",
       "Telugu                  2\n",
       "Lithuanian              2\n",
       "Ukrainian               1\n",
       "Name: count, dtype: Int64"
      ]
     },
     "execution_count": 396,
     "metadata": {},
     "output_type": "execute_result"
    }
   ],
   "source": [
    "# check for made changes\n",
    "audible.language.value_counts()"
   ]
  },
  {
   "cell_type": "code",
   "execution_count": 426,
   "id": "99667ea3-9efc-443d-88fa-f5e23c82be49",
   "metadata": {},
   "outputs": [
    {
     "data": {
      "text/plain": [
       "string[python]"
      ]
     },
     "execution_count": 426,
     "metadata": {},
     "output_type": "execute_result"
    }
   ],
   "source": [
    "#Check the datatype of the 'language' column\n",
    "audible['language'].dtype"
   ]
  },
  {
   "cell_type": "markdown",
   "id": "34d54cc2-f771-4a1c-a066-255ff194023e",
   "metadata": {},
   "source": [
    "### Step 7. Split 'stars' column into 'stars' and 'rating'"
   ]
  },
  {
   "cell_type": "code",
   "execution_count": 398,
   "id": "5a40613b-cde2-4382-af5b-057c1fa9fd00",
   "metadata": {},
   "outputs": [
    {
     "data": {
      "text/plain": [
       "array([' out of  stars ratings', '. out of  stars ratings',\n",
       "       'Not rated yet', ' out of  stars rating',\n",
       "       ' out of  stars, ratings', '. out of  stars, ratings'],\n",
       "      dtype=object)"
      ]
     },
     "execution_count": 398,
     "metadata": {},
     "output_type": "execute_result"
    }
   ],
   "source": [
    "# see the phrases presented\n",
    "#replace all numbers with blanks\n",
    "stars_column = audible['stars'].str.replace(r'[0-9]', '', regex = True)\n",
    "#keep only unique patterns\n",
    "stars_column.unique()"
   ]
  },
  {
   "cell_type": "code",
   "execution_count": 399,
   "id": "43d73469-c367-4931-8dae-368bf871891d",
   "metadata": {},
   "outputs": [
    {
     "data": {
      "text/plain": [
       "72417"
      ]
     },
     "execution_count": 399,
     "metadata": {},
     "output_type": "execute_result"
    }
   ],
   "source": [
    "audible['stars'].value_counts().get('Not rated yet', 0)"
   ]
  },
  {
   "cell_type": "code",
   "execution_count": 400,
   "id": "57e06c51-723b-4b2d-8a5c-92a849e6fbee",
   "metadata": {},
   "outputs": [],
   "source": [
    "# Convert the 'stars' column to string\n",
    "audible['stars'] = audible['stars'].astype(str)\n",
    "\n",
    "# Extract stars and ratings using regular expressions\n",
    "pattern = r'([\\d.]+) out of [\\d.]+ stars.*?([\\d,]+) ratings'\n",
    "extracted_data = audible['stars'].str.extract(pattern, expand=True)\n",
    "\n",
    "# Fill NaN values in the 'ratings' column with 0\n",
    "extracted_data[1] = extracted_data[1].fillna('0')\n",
    "\n",
    "# Remove commas and convert to integer\n",
    "audible['ratings'] = extracted_data[1].str.replace(',', '').astype(float)\n",
    "\n",
    "# Fill NaN values in the 'stars' column with 0\n",
    "extracted_data[0] = extracted_data[0].fillna('0')\n",
    "\n",
    "# Convert to float\n",
    "audible['stars'] = extracted_data[0].astype(float)\n"
   ]
  },
  {
   "cell_type": "code",
   "execution_count": 401,
   "id": "f724ae75-9a1b-4454-be86-0b1df7be6192",
   "metadata": {},
   "outputs": [
    {
     "data": {
      "text/html": [
       "<div>\n",
       "<style scoped>\n",
       "    .dataframe tbody tr th:only-of-type {\n",
       "        vertical-align: middle;\n",
       "    }\n",
       "\n",
       "    .dataframe tbody tr th {\n",
       "        vertical-align: top;\n",
       "    }\n",
       "\n",
       "    .dataframe thead th {\n",
       "        text-align: right;\n",
       "    }\n",
       "</style>\n",
       "<table border=\"1\" class=\"dataframe\">\n",
       "  <thead>\n",
       "    <tr style=\"text-align: right;\">\n",
       "      <th></th>\n",
       "      <th>stars</th>\n",
       "      <th>ratings</th>\n",
       "    </tr>\n",
       "  </thead>\n",
       "  <tbody>\n",
       "    <tr>\n",
       "      <th>count</th>\n",
       "      <td>87489.000000</td>\n",
       "      <td>87489.000000</td>\n",
       "    </tr>\n",
       "    <tr>\n",
       "      <th>mean</th>\n",
       "      <td>0.473888</td>\n",
       "      <td>3.656825</td>\n",
       "    </tr>\n",
       "    <tr>\n",
       "      <th>std</th>\n",
       "      <td>1.388756</td>\n",
       "      <td>86.502055</td>\n",
       "    </tr>\n",
       "    <tr>\n",
       "      <th>min</th>\n",
       "      <td>0.000000</td>\n",
       "      <td>0.000000</td>\n",
       "    </tr>\n",
       "    <tr>\n",
       "      <th>25%</th>\n",
       "      <td>0.000000</td>\n",
       "      <td>0.000000</td>\n",
       "    </tr>\n",
       "    <tr>\n",
       "      <th>50%</th>\n",
       "      <td>0.000000</td>\n",
       "      <td>0.000000</td>\n",
       "    </tr>\n",
       "    <tr>\n",
       "      <th>75%</th>\n",
       "      <td>0.000000</td>\n",
       "      <td>0.000000</td>\n",
       "    </tr>\n",
       "    <tr>\n",
       "      <th>max</th>\n",
       "      <td>5.000000</td>\n",
       "      <td>12573.000000</td>\n",
       "    </tr>\n",
       "  </tbody>\n",
       "</table>\n",
       "</div>"
      ],
      "text/plain": [
       "              stars       ratings\n",
       "count  87489.000000  87489.000000\n",
       "mean       0.473888      3.656825\n",
       "std        1.388756     86.502055\n",
       "min        0.000000      0.000000\n",
       "25%        0.000000      0.000000\n",
       "50%        0.000000      0.000000\n",
       "75%        0.000000      0.000000\n",
       "max        5.000000  12573.000000"
      ]
     },
     "execution_count": 401,
     "metadata": {},
     "output_type": "execute_result"
    }
   ],
   "source": [
    "# Check the summary statistics for the 'stars' and 'ratings' columns to ensure the data is appropriate\n",
    "audible[['stars', 'ratings']].describe()"
   ]
  },
  {
   "cell_type": "code",
   "execution_count": 415,
   "id": "05dd6df1-fc8a-4cb0-ae72-d529dd0232fd",
   "metadata": {},
   "outputs": [
    {
     "name": "stdout",
     "output_type": "stream",
     "text": [
      "<class 'pandas.core.frame.DataFrame'>\n",
      "RangeIndex: 87489 entries, 0 to 87488\n",
      "Data columns (total 2 columns):\n",
      " #   Column   Non-Null Count  Dtype  \n",
      "---  ------   --------------  -----  \n",
      " 0   stars    87489 non-null  float64\n",
      " 1   ratings  87489 non-null  float64\n",
      "dtypes: float64(2)\n",
      "memory usage: 1.3 MB\n"
     ]
    }
   ],
   "source": [
    "# review the data type\n",
    "audible[['stars', 'ratings']].info()"
   ]
  },
  {
   "cell_type": "code",
   "execution_count": 403,
   "id": "de0fded5-b399-4fc8-ac71-4a18f136350b",
   "metadata": {},
   "outputs": [
    {
     "data": {
      "text/html": [
       "<div>\n",
       "<style scoped>\n",
       "    .dataframe tbody tr th:only-of-type {\n",
       "        vertical-align: middle;\n",
       "    }\n",
       "\n",
       "    .dataframe tbody tr th {\n",
       "        vertical-align: top;\n",
       "    }\n",
       "\n",
       "    .dataframe thead th {\n",
       "        text-align: right;\n",
       "    }\n",
       "</style>\n",
       "<table border=\"1\" class=\"dataframe\">\n",
       "  <thead>\n",
       "    <tr style=\"text-align: right;\">\n",
       "      <th></th>\n",
       "      <th>stars</th>\n",
       "      <th>ratings</th>\n",
       "    </tr>\n",
       "  </thead>\n",
       "  <tbody>\n",
       "    <tr>\n",
       "      <th>0</th>\n",
       "      <td>5.0</td>\n",
       "      <td>34.0</td>\n",
       "    </tr>\n",
       "    <tr>\n",
       "      <th>1</th>\n",
       "      <td>4.5</td>\n",
       "      <td>41.0</td>\n",
       "    </tr>\n",
       "    <tr>\n",
       "      <th>2</th>\n",
       "      <td>4.5</td>\n",
       "      <td>38.0</td>\n",
       "    </tr>\n",
       "    <tr>\n",
       "      <th>3</th>\n",
       "      <td>4.5</td>\n",
       "      <td>12.0</td>\n",
       "    </tr>\n",
       "    <tr>\n",
       "      <th>4</th>\n",
       "      <td>4.5</td>\n",
       "      <td>181.0</td>\n",
       "    </tr>\n",
       "    <tr>\n",
       "      <th>5</th>\n",
       "      <td>5.0</td>\n",
       "      <td>72.0</td>\n",
       "    </tr>\n",
       "    <tr>\n",
       "      <th>6</th>\n",
       "      <td>5.0</td>\n",
       "      <td>11.0</td>\n",
       "    </tr>\n",
       "    <tr>\n",
       "      <th>7</th>\n",
       "      <td>5.0</td>\n",
       "      <td>50.0</td>\n",
       "    </tr>\n",
       "    <tr>\n",
       "      <th>8</th>\n",
       "      <td>5.0</td>\n",
       "      <td>5.0</td>\n",
       "    </tr>\n",
       "    <tr>\n",
       "      <th>9</th>\n",
       "      <td>5.0</td>\n",
       "      <td>58.0</td>\n",
       "    </tr>\n",
       "  </tbody>\n",
       "</table>\n",
       "</div>"
      ],
      "text/plain": [
       "   stars  ratings\n",
       "0    5.0     34.0\n",
       "1    4.5     41.0\n",
       "2    4.5     38.0\n",
       "3    4.5     12.0\n",
       "4    4.5    181.0\n",
       "5    5.0     72.0\n",
       "6    5.0     11.0\n",
       "7    5.0     50.0\n",
       "8    5.0      5.0\n",
       "9    5.0     58.0"
      ]
     },
     "execution_count": 403,
     "metadata": {},
     "output_type": "execute_result"
    }
   ],
   "source": [
    "# review the data\n",
    "audible[['stars', 'ratings']].head(10)"
   ]
  },
  {
   "cell_type": "markdown",
   "id": "bf8d0475-7039-4843-9c6a-5b78fdc58f9c",
   "metadata": {},
   "source": [
    "### Step 8. Investigate 'price' column format"
   ]
  },
  {
   "cell_type": "code",
   "execution_count": 404,
   "id": "506b7588-84b0-4810-8a5c-89138ed27c4c",
   "metadata": {},
   "outputs": [],
   "source": [
    "# Convert the 'price' column to string\n",
    "audible['price'] = audible['price'].astype(str)\n",
    "\n",
    "# Extract numeric values with or without comma separators using regular expression\n",
    "audible['extracted_price'] = audible['price'].str.extract(r'([\\d,]+\\.\\d+|\\d+)')\n",
    "\n",
    "# Remove commas from the extracted values\n",
    "audible['extracted_price'] = audible['extracted_price'].str.replace(',', '')\n",
    "\n",
    "# Replace all NaN values in the 'extracted_price' column with 0\n",
    "audible['extracted_price'].fillna(0, inplace=True)\n",
    "\n",
    "# Convert the 'extracted_price' column to float\n",
    "audible['extracted_price'] = audible['extracted_price'].astype(float)\n"
   ]
  },
  {
   "cell_type": "code",
   "execution_count": 425,
   "id": "229526ab-cf1e-462d-bcc2-0836b95aa9f9",
   "metadata": {},
   "outputs": [
    {
     "data": {
      "text/plain": [
       "count    87489.000000\n",
       "mean       559.009246\n",
       "std        336.096642\n",
       "min          0.000000\n",
       "25%        268.000000\n",
       "50%        585.000000\n",
       "75%        755.000000\n",
       "max       7198.000000\n",
       "Name: price, dtype: float64"
      ]
     },
     "execution_count": 425,
     "metadata": {},
     "output_type": "execute_result"
    }
   ],
   "source": [
    "# review the data\n",
    "audible.price.describe()"
   ]
  },
  {
   "cell_type": "code",
   "execution_count": 406,
   "id": "e6359dc4-9773-4832-aef7-f4ba9617b21e",
   "metadata": {},
   "outputs": [],
   "source": [
    "# Drop the 'price' column\n",
    "audible.drop('price', axis=1, inplace=True)\n",
    "\n",
    "# Rename 'extracted_price' to 'priudibce'\n",
    "audible.rename(columns={'extracted_price': 'price'}, inplace=True)\n"
   ]
  },
  {
   "cell_type": "markdown",
   "id": "459ae901-c135-4b3c-97b8-5993ca5be0d1",
   "metadata": {},
   "source": [
    "### Step 9. Review the data"
   ]
  },
  {
   "cell_type": "code",
   "execution_count": 407,
   "id": "e16ae418-083f-4b71-a79d-a2af45910482",
   "metadata": {},
   "outputs": [
    {
     "data": {
      "text/html": [
       "<div>\n",
       "<style scoped>\n",
       "    .dataframe tbody tr th:only-of-type {\n",
       "        vertical-align: middle;\n",
       "    }\n",
       "\n",
       "    .dataframe tbody tr th {\n",
       "        vertical-align: top;\n",
       "    }\n",
       "\n",
       "    .dataframe thead th {\n",
       "        text-align: right;\n",
       "    }\n",
       "</style>\n",
       "<table border=\"1\" class=\"dataframe\">\n",
       "  <thead>\n",
       "    <tr style=\"text-align: right;\">\n",
       "      <th></th>\n",
       "      <th>name</th>\n",
       "      <th>author</th>\n",
       "      <th>narrator</th>\n",
       "      <th>language</th>\n",
       "      <th>stars</th>\n",
       "      <th>duration_in_minutes</th>\n",
       "      <th>release_date</th>\n",
       "      <th>ratings</th>\n",
       "      <th>price</th>\n",
       "    </tr>\n",
       "  </thead>\n",
       "  <tbody>\n",
       "    <tr>\n",
       "      <th>0</th>\n",
       "      <td>Geronimo Stilton #11 &amp; #12</td>\n",
       "      <td>Geronimo Stilton</td>\n",
       "      <td>Bill Lobely</td>\n",
       "      <td>English</td>\n",
       "      <td>5.0</td>\n",
       "      <td>120</td>\n",
       "      <td>2008-08-04</td>\n",
       "      <td>34.0</td>\n",
       "      <td>468.0</td>\n",
       "    </tr>\n",
       "    <tr>\n",
       "      <th>1</th>\n",
       "      <td>The Burning Maze</td>\n",
       "      <td>Rick Riordan</td>\n",
       "      <td>Robbie Daymond</td>\n",
       "      <td>English</td>\n",
       "      <td>4.5</td>\n",
       "      <td>780</td>\n",
       "      <td>2018-05-01</td>\n",
       "      <td>41.0</td>\n",
       "      <td>820.0</td>\n",
       "    </tr>\n",
       "    <tr>\n",
       "      <th>2</th>\n",
       "      <td>The Deep End</td>\n",
       "      <td>Jeff Kinney</td>\n",
       "      <td>Dan Russell</td>\n",
       "      <td>English</td>\n",
       "      <td>4.5</td>\n",
       "      <td>120</td>\n",
       "      <td>2020-11-06</td>\n",
       "      <td>38.0</td>\n",
       "      <td>410.0</td>\n",
       "    </tr>\n",
       "    <tr>\n",
       "      <th>3</th>\n",
       "      <td>Daughter of the Deep</td>\n",
       "      <td>Rick Riordan</td>\n",
       "      <td>Soneela Nankani</td>\n",
       "      <td>English</td>\n",
       "      <td>4.5</td>\n",
       "      <td>660</td>\n",
       "      <td>2021-10-05</td>\n",
       "      <td>12.0</td>\n",
       "      <td>615.0</td>\n",
       "    </tr>\n",
       "    <tr>\n",
       "      <th>4</th>\n",
       "      <td>The Lightning Thief: Percy Jackson, Book 1</td>\n",
       "      <td>Rick Riordan</td>\n",
       "      <td>Jesse Bernstein</td>\n",
       "      <td>English</td>\n",
       "      <td>4.5</td>\n",
       "      <td>600</td>\n",
       "      <td>2010-01-13</td>\n",
       "      <td>181.0</td>\n",
       "      <td>820.0</td>\n",
       "    </tr>\n",
       "    <tr>\n",
       "      <th>5</th>\n",
       "      <td>The Hunger Games: Special Edition</td>\n",
       "      <td>Suzanne Collins</td>\n",
       "      <td>Tatiana Maslany</td>\n",
       "      <td>English</td>\n",
       "      <td>5.0</td>\n",
       "      <td>600</td>\n",
       "      <td>2018-10-30</td>\n",
       "      <td>72.0</td>\n",
       "      <td>656.0</td>\n",
       "    </tr>\n",
       "    <tr>\n",
       "      <th>6</th>\n",
       "      <td>Quest for the Diamond Sword</td>\n",
       "      <td>Winter Morgan</td>\n",
       "      <td>Luke Daniels</td>\n",
       "      <td>English</td>\n",
       "      <td>5.0</td>\n",
       "      <td>120</td>\n",
       "      <td>2014-11-25</td>\n",
       "      <td>11.0</td>\n",
       "      <td>233.0</td>\n",
       "    </tr>\n",
       "    <tr>\n",
       "      <th>7</th>\n",
       "      <td>The Dark Prophecy</td>\n",
       "      <td>Rick Riordan</td>\n",
       "      <td>Robbie Daymond</td>\n",
       "      <td>English</td>\n",
       "      <td>5.0</td>\n",
       "      <td>720</td>\n",
       "      <td>2017-05-02</td>\n",
       "      <td>50.0</td>\n",
       "      <td>820.0</td>\n",
       "    </tr>\n",
       "    <tr>\n",
       "      <th>8</th>\n",
       "      <td>Merlin Mission Collection</td>\n",
       "      <td>Mary Pope Osborne</td>\n",
       "      <td>Mary Pope Osborne</td>\n",
       "      <td>English</td>\n",
       "      <td>5.0</td>\n",
       "      <td>600</td>\n",
       "      <td>2017-05-02</td>\n",
       "      <td>5.0</td>\n",
       "      <td>1256.0</td>\n",
       "    </tr>\n",
       "    <tr>\n",
       "      <th>9</th>\n",
       "      <td>The Tyrant’s Tomb</td>\n",
       "      <td>Rick Riordan</td>\n",
       "      <td>Robbie Daymond</td>\n",
       "      <td>English</td>\n",
       "      <td>5.0</td>\n",
       "      <td>780</td>\n",
       "      <td>2019-09-24</td>\n",
       "      <td>58.0</td>\n",
       "      <td>820.0</td>\n",
       "    </tr>\n",
       "  </tbody>\n",
       "</table>\n",
       "</div>"
      ],
      "text/plain": [
       "                                         name             author  \\\n",
       "0                  Geronimo Stilton #11 & #12   Geronimo Stilton   \n",
       "1                            The Burning Maze       Rick Riordan   \n",
       "2                                The Deep End        Jeff Kinney   \n",
       "3                        Daughter of the Deep       Rick Riordan   \n",
       "4  The Lightning Thief: Percy Jackson, Book 1       Rick Riordan   \n",
       "5           The Hunger Games: Special Edition    Suzanne Collins   \n",
       "6                 Quest for the Diamond Sword      Winter Morgan   \n",
       "7                           The Dark Prophecy       Rick Riordan   \n",
       "8                   Merlin Mission Collection  Mary Pope Osborne   \n",
       "9                           The Tyrant’s Tomb       Rick Riordan   \n",
       "\n",
       "            narrator language  stars  duration_in_minutes release_date  \\\n",
       "0        Bill Lobely  English    5.0                  120   2008-08-04   \n",
       "1     Robbie Daymond  English    4.5                  780   2018-05-01   \n",
       "2        Dan Russell  English    4.5                  120   2020-11-06   \n",
       "3    Soneela Nankani  English    4.5                  660   2021-10-05   \n",
       "4    Jesse Bernstein  English    4.5                  600   2010-01-13   \n",
       "5    Tatiana Maslany  English    5.0                  600   2018-10-30   \n",
       "6       Luke Daniels  English    5.0                  120   2014-11-25   \n",
       "7     Robbie Daymond  English    5.0                  720   2017-05-02   \n",
       "8  Mary Pope Osborne  English    5.0                  600   2017-05-02   \n",
       "9     Robbie Daymond  English    5.0                  780   2019-09-24   \n",
       "\n",
       "   ratings   price  \n",
       "0     34.0   468.0  \n",
       "1     41.0   820.0  \n",
       "2     38.0   410.0  \n",
       "3     12.0   615.0  \n",
       "4    181.0   820.0  \n",
       "5     72.0   656.0  \n",
       "6     11.0   233.0  \n",
       "7     50.0   820.0  \n",
       "8      5.0  1256.0  \n",
       "9     58.0   820.0  "
      ]
     },
     "execution_count": 407,
     "metadata": {},
     "output_type": "execute_result"
    }
   ],
   "source": [
    "audible.head(10)"
   ]
  },
  {
   "cell_type": "code",
   "execution_count": 424,
   "id": "20d763f6-7d71-4fbd-87f2-4584bb2dff22",
   "metadata": {},
   "outputs": [
    {
     "data": {
      "text/html": [
       "<div>\n",
       "<style scoped>\n",
       "    .dataframe tbody tr th:only-of-type {\n",
       "        vertical-align: middle;\n",
       "    }\n",
       "\n",
       "    .dataframe tbody tr th {\n",
       "        vertical-align: top;\n",
       "    }\n",
       "\n",
       "    .dataframe thead th {\n",
       "        text-align: right;\n",
       "    }\n",
       "</style>\n",
       "<table border=\"1\" class=\"dataframe\">\n",
       "  <thead>\n",
       "    <tr style=\"text-align: right;\">\n",
       "      <th></th>\n",
       "      <th>name</th>\n",
       "      <th>author</th>\n",
       "      <th>narrator</th>\n",
       "      <th>language</th>\n",
       "      <th>stars</th>\n",
       "      <th>duration_in_minutes</th>\n",
       "      <th>release_date</th>\n",
       "      <th>ratings</th>\n",
       "      <th>price</th>\n",
       "    </tr>\n",
       "  </thead>\n",
       "  <tbody>\n",
       "    <tr>\n",
       "      <th>count</th>\n",
       "      <td>87489</td>\n",
       "      <td>87489</td>\n",
       "      <td>87489</td>\n",
       "      <td>87489</td>\n",
       "      <td>87489.000000</td>\n",
       "      <td>87489.000000</td>\n",
       "      <td>87489</td>\n",
       "      <td>87489.000000</td>\n",
       "      <td>87489.000000</td>\n",
       "    </tr>\n",
       "    <tr>\n",
       "      <th>unique</th>\n",
       "      <td>82767</td>\n",
       "      <td>48374</td>\n",
       "      <td>29717</td>\n",
       "      <td>36</td>\n",
       "      <td>NaN</td>\n",
       "      <td>NaN</td>\n",
       "      <td>NaN</td>\n",
       "      <td>NaN</td>\n",
       "      <td>NaN</td>\n",
       "    </tr>\n",
       "    <tr>\n",
       "      <th>top</th>\n",
       "      <td>The Art of War</td>\n",
       "      <td>矢島雅弘,石橋遊</td>\n",
       "      <td>anonymous</td>\n",
       "      <td>English</td>\n",
       "      <td>NaN</td>\n",
       "      <td>NaN</td>\n",
       "      <td>NaN</td>\n",
       "      <td>NaN</td>\n",
       "      <td>NaN</td>\n",
       "    </tr>\n",
       "    <tr>\n",
       "      <th>freq</th>\n",
       "      <td>20</td>\n",
       "      <td>874</td>\n",
       "      <td>1034</td>\n",
       "      <td>61884</td>\n",
       "      <td>NaN</td>\n",
       "      <td>NaN</td>\n",
       "      <td>NaN</td>\n",
       "      <td>NaN</td>\n",
       "      <td>NaN</td>\n",
       "    </tr>\n",
       "    <tr>\n",
       "      <th>mean</th>\n",
       "      <td>NaN</td>\n",
       "      <td>NaN</td>\n",
       "      <td>NaN</td>\n",
       "      <td>NaN</td>\n",
       "      <td>0.473888</td>\n",
       "      <td>389.374904</td>\n",
       "      <td>2018-06-23 22:53:20.411480064</td>\n",
       "      <td>3.656825</td>\n",
       "      <td>559.009246</td>\n",
       "    </tr>\n",
       "    <tr>\n",
       "      <th>min</th>\n",
       "      <td>NaN</td>\n",
       "      <td>NaN</td>\n",
       "      <td>NaN</td>\n",
       "      <td>NaN</td>\n",
       "      <td>0.000000</td>\n",
       "      <td>0.000000</td>\n",
       "      <td>1998-12-27 00:00:00</td>\n",
       "      <td>0.000000</td>\n",
       "      <td>0.000000</td>\n",
       "    </tr>\n",
       "    <tr>\n",
       "      <th>25%</th>\n",
       "      <td>NaN</td>\n",
       "      <td>NaN</td>\n",
       "      <td>NaN</td>\n",
       "      <td>NaN</td>\n",
       "      <td>0.000000</td>\n",
       "      <td>120.000000</td>\n",
       "      <td>2016-09-06 00:00:00</td>\n",
       "      <td>0.000000</td>\n",
       "      <td>268.000000</td>\n",
       "    </tr>\n",
       "    <tr>\n",
       "      <th>50%</th>\n",
       "      <td>NaN</td>\n",
       "      <td>NaN</td>\n",
       "      <td>NaN</td>\n",
       "      <td>NaN</td>\n",
       "      <td>0.000000</td>\n",
       "      <td>360.000000</td>\n",
       "      <td>2020-02-06 00:00:00</td>\n",
       "      <td>0.000000</td>\n",
       "      <td>585.000000</td>\n",
       "    </tr>\n",
       "    <tr>\n",
       "      <th>75%</th>\n",
       "      <td>NaN</td>\n",
       "      <td>NaN</td>\n",
       "      <td>NaN</td>\n",
       "      <td>NaN</td>\n",
       "      <td>0.000000</td>\n",
       "      <td>540.000000</td>\n",
       "      <td>2021-08-17 00:00:00</td>\n",
       "      <td>0.000000</td>\n",
       "      <td>755.000000</td>\n",
       "    </tr>\n",
       "    <tr>\n",
       "      <th>max</th>\n",
       "      <td>NaN</td>\n",
       "      <td>NaN</td>\n",
       "      <td>NaN</td>\n",
       "      <td>NaN</td>\n",
       "      <td>5.000000</td>\n",
       "      <td>8580.000000</td>\n",
       "      <td>2025-11-14 00:00:00</td>\n",
       "      <td>12573.000000</td>\n",
       "      <td>7198.000000</td>\n",
       "    </tr>\n",
       "    <tr>\n",
       "      <th>std</th>\n",
       "      <td>NaN</td>\n",
       "      <td>NaN</td>\n",
       "      <td>NaN</td>\n",
       "      <td>NaN</td>\n",
       "      <td>1.388756</td>\n",
       "      <td>363.609916</td>\n",
       "      <td>NaN</td>\n",
       "      <td>86.502055</td>\n",
       "      <td>336.096642</td>\n",
       "    </tr>\n",
       "  </tbody>\n",
       "</table>\n",
       "</div>"
      ],
      "text/plain": [
       "                  name    author   narrator language         stars  \\\n",
       "count            87489     87489      87489    87489  87489.000000   \n",
       "unique           82767     48374      29717       36           NaN   \n",
       "top     The Art of War  矢島雅弘,石橋遊  anonymous  English           NaN   \n",
       "freq                20       874       1034    61884           NaN   \n",
       "mean               NaN       NaN        NaN      NaN      0.473888   \n",
       "min                NaN       NaN        NaN      NaN      0.000000   \n",
       "25%                NaN       NaN        NaN      NaN      0.000000   \n",
       "50%                NaN       NaN        NaN      NaN      0.000000   \n",
       "75%                NaN       NaN        NaN      NaN      0.000000   \n",
       "max                NaN       NaN        NaN      NaN      5.000000   \n",
       "std                NaN       NaN        NaN      NaN      1.388756   \n",
       "\n",
       "        duration_in_minutes                   release_date       ratings  \\\n",
       "count          87489.000000                          87489  87489.000000   \n",
       "unique                  NaN                            NaN           NaN   \n",
       "top                     NaN                            NaN           NaN   \n",
       "freq                    NaN                            NaN           NaN   \n",
       "mean             389.374904  2018-06-23 22:53:20.411480064      3.656825   \n",
       "min                0.000000            1998-12-27 00:00:00      0.000000   \n",
       "25%              120.000000            2016-09-06 00:00:00      0.000000   \n",
       "50%              360.000000            2020-02-06 00:00:00      0.000000   \n",
       "75%              540.000000            2021-08-17 00:00:00      0.000000   \n",
       "max             8580.000000            2025-11-14 00:00:00  12573.000000   \n",
       "std              363.609916                            NaN     86.502055   \n",
       "\n",
       "               price  \n",
       "count   87489.000000  \n",
       "unique           NaN  \n",
       "top              NaN  \n",
       "freq             NaN  \n",
       "mean      559.009246  \n",
       "min         0.000000  \n",
       "25%       268.000000  \n",
       "50%       585.000000  \n",
       "75%       755.000000  \n",
       "max      7198.000000  \n",
       "std       336.096642  "
      ]
     },
     "execution_count": 424,
     "metadata": {},
     "output_type": "execute_result"
    }
   ],
   "source": [
    "audible.describe(include='all')"
   ]
  },
  {
   "cell_type": "code",
   "execution_count": 427,
   "id": "f531a4ad-96da-4434-becd-d763b2a07eba",
   "metadata": {},
   "outputs": [
    {
     "name": "stdout",
     "output_type": "stream",
     "text": [
      "<class 'pandas.core.frame.DataFrame'>\n",
      "RangeIndex: 87489 entries, 0 to 87488\n",
      "Data columns (total 9 columns):\n",
      " #   Column               Non-Null Count  Dtype         \n",
      "---  ------               --------------  -----         \n",
      " 0   name                 87489 non-null  object        \n",
      " 1   author               87489 non-null  object        \n",
      " 2   narrator             87489 non-null  object        \n",
      " 3   language             87489 non-null  string        \n",
      " 4   stars                87489 non-null  float64       \n",
      " 5   duration_in_minutes  87489 non-null  int64         \n",
      " 6   release_date         87489 non-null  datetime64[ns]\n",
      " 7   ratings              87489 non-null  float64       \n",
      " 8   price                87489 non-null  float64       \n",
      "dtypes: datetime64[ns](1), float64(3), int64(1), object(3), string(1)\n",
      "memory usage: 6.0+ MB\n"
     ]
    }
   ],
   "source": [
    "audible.info()"
   ]
  },
  {
   "cell_type": "markdown",
   "id": "c8c3f0eb-ed30-4d15-80ea-1f3995adfa77",
   "metadata": {},
   "source": [
    "## Conclusion\n",
    "\n",
    "After a comprehensive data cleaning process, the dataset has been transformed into a tidy and well-structured format. \n",
    "- Prefixes in the 'author' and 'narrator' columns have been addressed, and names are now formatted consistently. \n",
    "- The 'time' and 'releasedate' columns have been processed to facilitate further analysis.\n",
    "- Inconsistent language capitalization has been corrected.\n",
    "- Additionally, the 'stars' column has been split into 'stars' and 'ratings' for better numerical representation.\n",
    "- The 'price' column has been converted to a numeric format.\n",
    "\n",
    "The dataset is now ready for in-depth analysis and insights."
   ]
  }
 ],
 "metadata": {
  "kernelspec": {
   "display_name": "Python 3 (ipykernel)",
   "language": "python",
   "name": "python3"
  },
  "language_info": {
   "codemirror_mode": {
    "name": "ipython",
    "version": 3
   },
   "file_extension": ".py",
   "mimetype": "text/x-python",
   "name": "python",
   "nbconvert_exporter": "python",
   "pygments_lexer": "ipython3",
   "version": "3.11.5"
  }
 },
 "nbformat": 4,
 "nbformat_minor": 5
}
