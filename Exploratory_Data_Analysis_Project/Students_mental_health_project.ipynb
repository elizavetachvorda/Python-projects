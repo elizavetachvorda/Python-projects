{
 "cells": [
  {
   "cell_type": "markdown",
   "id": "4b7640f3-f716-47cf-81ca-0b74583b5720",
   "metadata": {},
   "source": [
    "# Student Mental Health: Exploratory Data Analysis Project"
   ]
  },
  {
   "cell_type": "markdown",
   "id": "957931ae-fc6e-4266-9a5d-5042b5c5967a",
   "metadata": {},
   "source": [
    "## Step 1: Import Libraries and Load the Dataset"
   ]
  },
  {
   "cell_type": "code",
   "execution_count": 505,
   "id": "1746187e-8615-42c5-b051-18e057bb4dcb",
   "metadata": {},
   "outputs": [],
   "source": [
    "import pandas as pd\n",
    "import numpy as np\n",
    "from scipy.stats import pearsonr, chi2_contingency\n",
    "import matplotlib.pyplot as plt\n",
    "import seaborn as sns"
   ]
  },
  {
   "cell_type": "code",
   "execution_count": 506,
   "id": "214df2d1-b218-4e6b-9663-b6e256104d97",
   "metadata": {},
   "outputs": [],
   "source": [
    "# Load the dataset\n",
    "mental_health = pd.read_csv('student_mental_health.csv')"
   ]
  },
  {
   "cell_type": "markdown",
   "id": "f37d1392-f89f-4911-b85b-d498e2950bb6",
   "metadata": {},
   "source": [
    "## Step 2: Data Exploration and Cleaning"
   ]
  },
  {
   "cell_type": "code",
   "execution_count": 507,
   "id": "7904e274-e80e-4cfd-a13f-9402d3186b39",
   "metadata": {},
   "outputs": [
    {
     "name": "stdout",
     "output_type": "stream",
     "text": [
      "<class 'pandas.core.frame.DataFrame'>\n",
      "RangeIndex: 101 entries, 0 to 100\n",
      "Data columns (total 11 columns):\n",
      " #   Column                                        Non-Null Count  Dtype  \n",
      "---  ------                                        --------------  -----  \n",
      " 0   Timestamp                                     101 non-null    object \n",
      " 1   Choose your gender                            101 non-null    object \n",
      " 2   Age                                           100 non-null    float64\n",
      " 3   What is your course?                          101 non-null    object \n",
      " 4   Your current year of Study                    101 non-null    object \n",
      " 5   What is your CGPA?                            101 non-null    object \n",
      " 6   Marital status                                101 non-null    object \n",
      " 7   Do you have Depression?                       101 non-null    object \n",
      " 8   Do you have Anxiety?                          101 non-null    object \n",
      " 9   Do you have Panic attack?                     101 non-null    object \n",
      " 10  Did you seek any specialist for a treatment?  101 non-null    object \n",
      "dtypes: float64(1), object(10)\n",
      "memory usage: 8.8+ KB\n"
     ]
    }
   ],
   "source": [
    "# Display basic information about the dataset\n",
    "mental_health.info()"
   ]
  },
  {
   "cell_type": "code",
   "execution_count": 508,
   "id": "24dcb32d-20b9-4aed-bf46-5c4d38d518ad",
   "metadata": {},
   "outputs": [
    {
     "data": {
      "text/html": [
       "<div>\n",
       "<style scoped>\n",
       "    .dataframe tbody tr th:only-of-type {\n",
       "        vertical-align: middle;\n",
       "    }\n",
       "\n",
       "    .dataframe tbody tr th {\n",
       "        vertical-align: top;\n",
       "    }\n",
       "\n",
       "    .dataframe thead th {\n",
       "        text-align: right;\n",
       "    }\n",
       "</style>\n",
       "<table border=\"1\" class=\"dataframe\">\n",
       "  <thead>\n",
       "    <tr style=\"text-align: right;\">\n",
       "      <th></th>\n",
       "      <th>Timestamp</th>\n",
       "      <th>Choose your gender</th>\n",
       "      <th>Age</th>\n",
       "      <th>What is your course?</th>\n",
       "      <th>Your current year of Study</th>\n",
       "      <th>What is your CGPA?</th>\n",
       "      <th>Marital status</th>\n",
       "      <th>Do you have Depression?</th>\n",
       "      <th>Do you have Anxiety?</th>\n",
       "      <th>Do you have Panic attack?</th>\n",
       "      <th>Did you seek any specialist for a treatment?</th>\n",
       "    </tr>\n",
       "  </thead>\n",
       "  <tbody>\n",
       "    <tr>\n",
       "      <th>0</th>\n",
       "      <td>8/7/2020 12:02</td>\n",
       "      <td>Female</td>\n",
       "      <td>18.0</td>\n",
       "      <td>Engineering</td>\n",
       "      <td>year 1</td>\n",
       "      <td>3.00 - 3.49</td>\n",
       "      <td>No</td>\n",
       "      <td>Yes</td>\n",
       "      <td>No</td>\n",
       "      <td>Yes</td>\n",
       "      <td>No</td>\n",
       "    </tr>\n",
       "    <tr>\n",
       "      <th>1</th>\n",
       "      <td>8/7/2020 12:04</td>\n",
       "      <td>Male</td>\n",
       "      <td>21.0</td>\n",
       "      <td>Islamic education</td>\n",
       "      <td>year 2</td>\n",
       "      <td>3.00 - 3.49</td>\n",
       "      <td>No</td>\n",
       "      <td>No</td>\n",
       "      <td>Yes</td>\n",
       "      <td>No</td>\n",
       "      <td>No</td>\n",
       "    </tr>\n",
       "    <tr>\n",
       "      <th>2</th>\n",
       "      <td>8/7/2020 12:05</td>\n",
       "      <td>Male</td>\n",
       "      <td>19.0</td>\n",
       "      <td>BIT</td>\n",
       "      <td>Year 1</td>\n",
       "      <td>3.00 - 3.49</td>\n",
       "      <td>No</td>\n",
       "      <td>Yes</td>\n",
       "      <td>Yes</td>\n",
       "      <td>Yes</td>\n",
       "      <td>No</td>\n",
       "    </tr>\n",
       "    <tr>\n",
       "      <th>3</th>\n",
       "      <td>8/7/2020 12:06</td>\n",
       "      <td>Female</td>\n",
       "      <td>22.0</td>\n",
       "      <td>Laws</td>\n",
       "      <td>year 3</td>\n",
       "      <td>3.00 - 3.49</td>\n",
       "      <td>Yes</td>\n",
       "      <td>Yes</td>\n",
       "      <td>No</td>\n",
       "      <td>No</td>\n",
       "      <td>No</td>\n",
       "    </tr>\n",
       "    <tr>\n",
       "      <th>4</th>\n",
       "      <td>8/7/2020 12:13</td>\n",
       "      <td>Male</td>\n",
       "      <td>23.0</td>\n",
       "      <td>Mathemathics</td>\n",
       "      <td>year 4</td>\n",
       "      <td>3.00 - 3.49</td>\n",
       "      <td>No</td>\n",
       "      <td>No</td>\n",
       "      <td>No</td>\n",
       "      <td>No</td>\n",
       "      <td>No</td>\n",
       "    </tr>\n",
       "  </tbody>\n",
       "</table>\n",
       "</div>"
      ],
      "text/plain": [
       "        Timestamp Choose your gender   Age What is your course?  \\\n",
       "0  8/7/2020 12:02             Female  18.0          Engineering   \n",
       "1  8/7/2020 12:04               Male  21.0    Islamic education   \n",
       "2  8/7/2020 12:05               Male  19.0                  BIT   \n",
       "3  8/7/2020 12:06             Female  22.0                 Laws   \n",
       "4  8/7/2020 12:13               Male  23.0         Mathemathics   \n",
       "\n",
       "  Your current year of Study What is your CGPA? Marital status  \\\n",
       "0                     year 1        3.00 - 3.49             No   \n",
       "1                     year 2        3.00 - 3.49             No   \n",
       "2                     Year 1        3.00 - 3.49             No   \n",
       "3                     year 3        3.00 - 3.49            Yes   \n",
       "4                     year 4        3.00 - 3.49             No   \n",
       "\n",
       "  Do you have Depression? Do you have Anxiety? Do you have Panic attack?  \\\n",
       "0                     Yes                   No                       Yes   \n",
       "1                      No                  Yes                        No   \n",
       "2                     Yes                  Yes                       Yes   \n",
       "3                     Yes                   No                        No   \n",
       "4                      No                   No                        No   \n",
       "\n",
       "  Did you seek any specialist for a treatment?  \n",
       "0                                           No  \n",
       "1                                           No  \n",
       "2                                           No  \n",
       "3                                           No  \n",
       "4                                           No  "
      ]
     },
     "execution_count": 508,
     "metadata": {},
     "output_type": "execute_result"
    }
   ],
   "source": [
    "# return the first 5 columns\n",
    "mental_health.head()"
   ]
  },
  {
   "cell_type": "code",
   "execution_count": 509,
   "id": "134be392-3da9-489d-b51a-be1cf6a150c3",
   "metadata": {},
   "outputs": [
    {
     "data": {
      "text/plain": [
       "Timestamp                                       0\n",
       "Choose your gender                              0\n",
       "Age                                             1\n",
       "What is your course?                            0\n",
       "Your current year of Study                      0\n",
       "What is your CGPA?                              0\n",
       "Marital status                                  0\n",
       "Do you have Depression?                         0\n",
       "Do you have Anxiety?                            0\n",
       "Do you have Panic attack?                       0\n",
       "Did you seek any specialist for a treatment?    0\n",
       "dtype: int64"
      ]
     },
     "execution_count": 509,
     "metadata": {},
     "output_type": "execute_result"
    }
   ],
   "source": [
    "# check for null values\n",
    "mental_health.isnull().sum()"
   ]
  },
  {
   "cell_type": "code",
   "execution_count": 510,
   "id": "1b815f25-7568-4285-a159-4123df529bb3",
   "metadata": {},
   "outputs": [],
   "source": [
    "# drop null values()\n",
    "mental_health.dropna(inplace=True)"
   ]
  },
  {
   "cell_type": "code",
   "execution_count": 511,
   "id": "1e89bedc-7e0c-40fb-aa78-210b778253eb",
   "metadata": {},
   "outputs": [
    {
     "data": {
      "text/plain": [
       "0"
      ]
     },
     "execution_count": 511,
     "metadata": {},
     "output_type": "execute_result"
    }
   ],
   "source": [
    "# check for duplicates\n",
    "mental_health.duplicated().sum()"
   ]
  },
  {
   "cell_type": "code",
   "execution_count": 512,
   "id": "7c4a7557-ac8d-44b4-97cb-aff689b52f2b",
   "metadata": {},
   "outputs": [],
   "source": [
    "# Drop the an unnecessary column\n",
    "mental_health.drop('Timestamp', axis=1, inplace=True)"
   ]
  },
  {
   "cell_type": "code",
   "execution_count": 513,
   "id": "88a9955d-d2a2-40a8-aad1-93e72565ed0c",
   "metadata": {},
   "outputs": [],
   "source": [
    "# Rename the columns\n",
    "new_column_names = {\n",
    "    'Choose your gender': 'Gender',\n",
    "    'What is your course?': 'Course',\n",
    "    'Your current year of Study': 'Year_of_Study',\n",
    "    'What is your CGPA?': 'CGPA',\n",
    "    'Marital status':'Marital_status',\n",
    "    'Do you have Depression?': 'Depression',\n",
    "    'Do you have Anxiety?': 'Anxiety',\n",
    "    'Do you have Panic attack?': 'Panic_attack',\n",
    "    'Did you seek any specialist for a treatment?': 'Treatment_Sought'\n",
    "}\n",
    "\n",
    "mental_health.rename(columns=new_column_names, inplace=True)"
   ]
  },
  {
   "cell_type": "code",
   "execution_count": 514,
   "id": "367dd93d-66f1-4110-824b-3818f0e99f0d",
   "metadata": {},
   "outputs": [
    {
     "data": {
      "text/html": [
       "<div>\n",
       "<style scoped>\n",
       "    .dataframe tbody tr th:only-of-type {\n",
       "        vertical-align: middle;\n",
       "    }\n",
       "\n",
       "    .dataframe tbody tr th {\n",
       "        vertical-align: top;\n",
       "    }\n",
       "\n",
       "    .dataframe thead th {\n",
       "        text-align: right;\n",
       "    }\n",
       "</style>\n",
       "<table border=\"1\" class=\"dataframe\">\n",
       "  <thead>\n",
       "    <tr style=\"text-align: right;\">\n",
       "      <th></th>\n",
       "      <th>Gender</th>\n",
       "      <th>Age</th>\n",
       "      <th>Course</th>\n",
       "      <th>Year_of_Study</th>\n",
       "      <th>CGPA</th>\n",
       "      <th>Marital_status</th>\n",
       "      <th>Depression</th>\n",
       "      <th>Anxiety</th>\n",
       "      <th>Panic_attack</th>\n",
       "      <th>Treatment_Sought</th>\n",
       "    </tr>\n",
       "  </thead>\n",
       "  <tbody>\n",
       "  </tbody>\n",
       "</table>\n",
       "</div>"
      ],
      "text/plain": [
       "Empty DataFrame\n",
       "Columns: [Gender, Age, Course, Year_of_Study, CGPA, Marital_status, Depression, Anxiety, Panic_attack, Treatment_Sought]\n",
       "Index: []"
      ]
     },
     "execution_count": 514,
     "metadata": {},
     "output_type": "execute_result"
    }
   ],
   "source": [
    "# review the new column names\n",
    "mental_health.head(0)"
   ]
  },
  {
   "cell_type": "code",
   "execution_count": 515,
   "id": "209b6ff1-2e9b-476e-afc3-44db2221dfc0",
   "metadata": {},
   "outputs": [
    {
     "data": {
      "text/plain": [
       "array(['Female', 'Male'], dtype=object)"
      ]
     },
     "execution_count": 515,
     "metadata": {},
     "output_type": "execute_result"
    }
   ],
   "source": [
    "# explore the unique values of the 'Gender' column\n",
    "mental_health['Gender'].unique()"
   ]
  },
  {
   "cell_type": "code",
   "execution_count": 516,
   "id": "89f777a6-2d8e-4c25-97ff-4ff83a0ec3a3",
   "metadata": {},
   "outputs": [
    {
     "data": {
      "text/plain": [
       "array(['Engineering', 'Islamic education', 'BIT', 'Laws', 'Mathemathics',\n",
       "       'Pendidikan islam', 'BCS', 'Human Resources', 'Irkhs',\n",
       "       'Psychology', 'KENMS', 'Accounting ', 'ENM', 'Marine science',\n",
       "       'KOE', 'Banking Studies', 'Business Administration', 'Law',\n",
       "       'KIRKHS', 'Usuluddin ', 'TAASL', 'Engine', 'ALA',\n",
       "       'Biomedical science', 'koe', 'Kirkhs', 'BENL', 'Benl', 'IT', 'CTS',\n",
       "       'engin', 'Econs', 'MHSC', 'Malcom', 'Kop', 'Human Sciences ',\n",
       "       'Biotechnology', 'Communication ', 'Diploma Nursing',\n",
       "       'Pendidikan Islam ', 'Radiography', 'psychology', 'Fiqh fatwa ',\n",
       "       'DIPLOMA TESL', 'Koe', 'Fiqh', 'Islamic Education', 'Nursing ',\n",
       "       'Pendidikan Islam'], dtype=object)"
      ]
     },
     "execution_count": 516,
     "metadata": {},
     "output_type": "execute_result"
    }
   ],
   "source": [
    "# explore the unique values of the 'Course' column\n",
    "mental_health['Course'].unique()"
   ]
  },
  {
   "cell_type": "code",
   "execution_count": 517,
   "id": "81286bdf-9109-4d67-bbcf-09fd2e8b44d6",
   "metadata": {},
   "outputs": [],
   "source": [
    "# Mapping dictionary to categorize courses\n",
    "course_mapping = {\n",
    "    'Engineering': 'Engineering',\n",
    "    'Islamic education': 'Religious Studies',\n",
    "    'BIT': 'IT',\n",
    "    'Laws': 'Law',\n",
    "    'Mathemathics': 'Mathematics',\n",
    "    'Pendidikan islam': 'Religious Studies',\n",
    "    'BCS': 'IT',\n",
    "    'Human Resources': 'Business',\n",
    "    'Irkhs': 'Religious Studies',\n",
    "    'Psychology': 'Social Sciences',\n",
    "    'KENMS': 'Business',\n",
    "    'Accounting ': 'Business',\n",
    "    'ENM': 'Engineering',\n",
    "    'Marine science': 'Environmental Science',\n",
    "    'KOE': 'Engineering',\n",
    "    'Banking Studies': 'Business',\n",
    "    'Business Administration': 'Business',\n",
    "    'Law': 'Law',\n",
    "    'KIRKHS': 'Religious Studies',\n",
    "    'Usuluddin ': 'Religious Studies',\n",
    "    'TAASL': 'Language Studies',\n",
    "    'Engine': 'Engineering',\n",
    "    'ALA': 'Language Studies',\n",
    "    'Biomedical science': 'Medical Science',\n",
    "    'koe': 'Engineering',\n",
    "    'Kirkhs': 'Religious Studies',\n",
    "    'BENL': 'Language Studies',\n",
    "    'Benl': 'Language Studies',\n",
    "    'IT': 'IT',\n",
    "    'CTS': 'IT',\n",
    "    'engin': 'Engineering',\n",
    "    'Econs': 'Economics',\n",
    "    'MHSC': 'Medical Science',\n",
    "    'Malcom': 'Media and Communication',\n",
    "    'Kop': 'Language Studies',\n",
    "    'Human Sciences ': 'Social Sciences',\n",
    "    'Biotechnology': 'Biotechnology',\n",
    "    'Communication ': 'Media and Communication',\n",
    "    'Diploma Nursing': 'Medical Science',\n",
    "    'Pendidikan Islam ': 'Religious Studies',\n",
    "    'Radiography': 'Medical Science',\n",
    "    'psychology': 'Social Sciences',\n",
    "    'Fiqh fatwa ': 'Religious Studies',\n",
    "    'DIPLOMA TESL': 'Language Studies',\n",
    "    'Koe': 'Engineering',\n",
    "    'Fiqh': 'Religious Studies',\n",
    "    'Islamic Education': 'Religious Studies',\n",
    "    'Nursing ': 'Medical Science',\n",
    "    'Pendidikan Islam': 'Religious Studies',\n",
    "}\n",
    "\n",
    "# Create a new column with the categorized groups\n",
    "mental_health['Course_Category'] = mental_health['Course'].map(course_mapping)"
   ]
  },
  {
   "cell_type": "code",
   "execution_count": 518,
   "id": "c4911f47-7e72-4bdf-b8c4-3c88fc8c5f31",
   "metadata": {},
   "outputs": [
    {
     "data": {
      "text/html": [
       "<div>\n",
       "<style scoped>\n",
       "    .dataframe tbody tr th:only-of-type {\n",
       "        vertical-align: middle;\n",
       "    }\n",
       "\n",
       "    .dataframe tbody tr th {\n",
       "        vertical-align: top;\n",
       "    }\n",
       "\n",
       "    .dataframe thead th {\n",
       "        text-align: right;\n",
       "    }\n",
       "</style>\n",
       "<table border=\"1\" class=\"dataframe\">\n",
       "  <thead>\n",
       "    <tr style=\"text-align: right;\">\n",
       "      <th></th>\n",
       "      <th>Gender</th>\n",
       "      <th>Age</th>\n",
       "      <th>Course</th>\n",
       "      <th>Year_of_Study</th>\n",
       "      <th>CGPA</th>\n",
       "      <th>Marital_status</th>\n",
       "      <th>Depression</th>\n",
       "      <th>Anxiety</th>\n",
       "      <th>Panic_attack</th>\n",
       "      <th>Treatment_Sought</th>\n",
       "      <th>Course_Category</th>\n",
       "    </tr>\n",
       "  </thead>\n",
       "  <tbody>\n",
       "    <tr>\n",
       "      <th>0</th>\n",
       "      <td>Female</td>\n",
       "      <td>18.0</td>\n",
       "      <td>Engineering</td>\n",
       "      <td>year 1</td>\n",
       "      <td>3.00 - 3.49</td>\n",
       "      <td>No</td>\n",
       "      <td>Yes</td>\n",
       "      <td>No</td>\n",
       "      <td>Yes</td>\n",
       "      <td>No</td>\n",
       "      <td>Engineering</td>\n",
       "    </tr>\n",
       "    <tr>\n",
       "      <th>1</th>\n",
       "      <td>Male</td>\n",
       "      <td>21.0</td>\n",
       "      <td>Islamic education</td>\n",
       "      <td>year 2</td>\n",
       "      <td>3.00 - 3.49</td>\n",
       "      <td>No</td>\n",
       "      <td>No</td>\n",
       "      <td>Yes</td>\n",
       "      <td>No</td>\n",
       "      <td>No</td>\n",
       "      <td>Religious Studies</td>\n",
       "    </tr>\n",
       "    <tr>\n",
       "      <th>2</th>\n",
       "      <td>Male</td>\n",
       "      <td>19.0</td>\n",
       "      <td>BIT</td>\n",
       "      <td>Year 1</td>\n",
       "      <td>3.00 - 3.49</td>\n",
       "      <td>No</td>\n",
       "      <td>Yes</td>\n",
       "      <td>Yes</td>\n",
       "      <td>Yes</td>\n",
       "      <td>No</td>\n",
       "      <td>IT</td>\n",
       "    </tr>\n",
       "    <tr>\n",
       "      <th>3</th>\n",
       "      <td>Female</td>\n",
       "      <td>22.0</td>\n",
       "      <td>Laws</td>\n",
       "      <td>year 3</td>\n",
       "      <td>3.00 - 3.49</td>\n",
       "      <td>Yes</td>\n",
       "      <td>Yes</td>\n",
       "      <td>No</td>\n",
       "      <td>No</td>\n",
       "      <td>No</td>\n",
       "      <td>Law</td>\n",
       "    </tr>\n",
       "    <tr>\n",
       "      <th>4</th>\n",
       "      <td>Male</td>\n",
       "      <td>23.0</td>\n",
       "      <td>Mathemathics</td>\n",
       "      <td>year 4</td>\n",
       "      <td>3.00 - 3.49</td>\n",
       "      <td>No</td>\n",
       "      <td>No</td>\n",
       "      <td>No</td>\n",
       "      <td>No</td>\n",
       "      <td>No</td>\n",
       "      <td>Mathematics</td>\n",
       "    </tr>\n",
       "  </tbody>\n",
       "</table>\n",
       "</div>"
      ],
      "text/plain": [
       "   Gender   Age             Course Year_of_Study         CGPA Marital_status  \\\n",
       "0  Female  18.0        Engineering        year 1  3.00 - 3.49             No   \n",
       "1    Male  21.0  Islamic education        year 2  3.00 - 3.49             No   \n",
       "2    Male  19.0                BIT        Year 1  3.00 - 3.49             No   \n",
       "3  Female  22.0               Laws        year 3  3.00 - 3.49            Yes   \n",
       "4    Male  23.0       Mathemathics        year 4  3.00 - 3.49             No   \n",
       "\n",
       "  Depression Anxiety Panic_attack Treatment_Sought    Course_Category  \n",
       "0        Yes      No          Yes               No        Engineering  \n",
       "1         No     Yes           No               No  Religious Studies  \n",
       "2        Yes     Yes          Yes               No                 IT  \n",
       "3        Yes      No           No               No                Law  \n",
       "4         No      No           No               No        Mathematics  "
      ]
     },
     "execution_count": 518,
     "metadata": {},
     "output_type": "execute_result"
    }
   ],
   "source": [
    "# display the data\n",
    "mental_health.head()"
   ]
  },
  {
   "cell_type": "code",
   "execution_count": 519,
   "id": "2a74292d-4ff0-41a8-823e-d2866588e86b",
   "metadata": {},
   "outputs": [
    {
     "data": {
      "text/plain": [
       "array(['Engineering', 'Religious Studies', 'IT', 'Law', 'Mathematics',\n",
       "       'Business', 'Social Sciences', 'Environmental Science',\n",
       "       'Language Studies', 'Medical Science', 'Economics',\n",
       "       'Media and Communication', 'Biotechnology'], dtype=object)"
      ]
     },
     "execution_count": 519,
     "metadata": {},
     "output_type": "execute_result"
    }
   ],
   "source": [
    "# check the values of the 'Course_Category' column \n",
    "mental_health['Course_Category'].unique()"
   ]
  },
  {
   "cell_type": "code",
   "execution_count": 520,
   "id": "904ab2a2-bfb7-4392-ba0c-605bb40548d0",
   "metadata": {},
   "outputs": [],
   "source": [
    "# drop the column 'Course'\n",
    "mental_health.drop('Course', axis=1, inplace=True)"
   ]
  },
  {
   "cell_type": "code",
   "execution_count": 521,
   "id": "d760fb80-6299-4fc7-8157-7f9751ad495a",
   "metadata": {},
   "outputs": [
    {
     "data": {
      "text/plain": [
       "array(['year 1', 'year 2', 'Year 1', 'year 3', 'year 4', 'Year 2',\n",
       "       'Year 3'], dtype=object)"
      ]
     },
     "execution_count": 521,
     "metadata": {},
     "output_type": "execute_result"
    }
   ],
   "source": [
    "# investigate the unique values of the 'Course' column\n",
    "mental_health.Year_of_Study.unique()"
   ]
  },
  {
   "cell_type": "code",
   "execution_count": 522,
   "id": "cee5ccff-16ba-4e30-88f2-5bff740f7a2c",
   "metadata": {},
   "outputs": [],
   "source": [
    "# Create a new column 'Numeric_Year_of_study' with extracted numeric values\n",
    "mental_health['Numeric_Year_of_Study'] = mental_health['Year_of_Study'].str.extract('(\\d+)')\n",
    "\n",
    "# Convert the new column to numeric data type\n",
    "mental_health['Numeric_Year_of_Study'] = mental_health['Numeric_Year_of_Study'].astype(int)"
   ]
  },
  {
   "cell_type": "code",
   "execution_count": 524,
   "id": "c4ce8767-3305-4377-8050-637505f76e7a",
   "metadata": {},
   "outputs": [
    {
     "data": {
      "text/plain": [
       "array([1, 2, 3, 4])"
      ]
     },
     "execution_count": 524,
     "metadata": {},
     "output_type": "execute_result"
    }
   ],
   "source": [
    "# check the new values of the column\n",
    "mental_health['Numeric_Year_of_Study'].unique()"
   ]
  },
  {
   "cell_type": "code",
   "execution_count": 525,
   "id": "0f6ce66d-3aaf-44c2-8ce7-8bcbcdccf3d0",
   "metadata": {},
   "outputs": [
    {
     "data": {
      "text/plain": [
       "dtype('int64')"
      ]
     },
     "execution_count": 525,
     "metadata": {},
     "output_type": "execute_result"
    }
   ],
   "source": [
    "# ensure the data type of the new column\n",
    "mental_health['Numeric_Year_of_Study'].dtype"
   ]
  },
  {
   "cell_type": "code",
   "execution_count": 526,
   "id": "86c22edc-7970-4836-a517-5be3a7bb2f42",
   "metadata": {},
   "outputs": [],
   "source": [
    "#drop the column 'Year_of_Study'\n",
    "mental_health.drop('Year_of_Study', axis=1, inplace=True)\n",
    "# rename the column 'Numeric_Year_of_Study'\n",
    "mental_health.rename(columns={'Numeric_Year_of_Study':'Year_of_Study'}, inplace=True)"
   ]
  },
  {
   "cell_type": "code",
   "execution_count": 527,
   "id": "86d7bed7-4f1c-498e-b8f9-afb67c949913",
   "metadata": {},
   "outputs": [
    {
     "data": {
      "text/plain": [
       "array(['3.00 - 3.49', '3.50 - 4.00', '3.50 - 4.00 ', '2.50 - 2.99',\n",
       "       '2.00 - 2.49', '0 - 1.99'], dtype=object)"
      ]
     },
     "execution_count": 527,
     "metadata": {},
     "output_type": "execute_result"
    }
   ],
   "source": [
    "mental_health.CGPA.unique()"
   ]
  },
  {
   "cell_type": "code",
   "execution_count": 528,
   "id": "cef07226-ce31-468a-b39f-f5ffeb93a09a",
   "metadata": {},
   "outputs": [
    {
     "data": {
      "text/plain": [
       "array(['3.00 - 3.49', '3.50 - 4.00', '2.50 - 2.99', '2.00 - 2.49',\n",
       "       '0 - 1.99'], dtype=object)"
      ]
     },
     "execution_count": 528,
     "metadata": {},
     "output_type": "execute_result"
    }
   ],
   "source": [
    "# Two values in the column are repeated as unique: '3.50 - 4.00'\n",
    "# Trim leading and trailing whitespaces in the 'CGPA' column\n",
    "mental_health['CGPA'] = mental_health['CGPA'].str.strip()\n",
    "\n",
    "# Check unique values in the 'CGPA' column\n",
    "mental_health['CGPA'].unique()"
   ]
  },
  {
   "cell_type": "code",
   "execution_count": 529,
   "id": "82124026-0326-46be-b765-bcf0be6836da",
   "metadata": {},
   "outputs": [],
   "source": [
    "# Define the CGPA categories in the desired order\n",
    "cgpa_categories = ['0 - 1.99', '2.00 - 2.49', '2.50 - 2.99', '3.00 - 3.49', '3.50 - 4.00']\n",
    "\n",
    "# Convert the 'CGPA' column to a categorical type with specified categories and order\n",
    "mental_health['CGPA'] = pd.Categorical(mental_health['CGPA'], categories=cgpa_categories, ordered=True)"
   ]
  },
  {
   "cell_type": "code",
   "execution_count": 530,
   "id": "7f65c3e6-2f9c-4f03-be99-c984e7e97269",
   "metadata": {},
   "outputs": [
    {
     "data": {
      "text/plain": [
       "['3.00 - 3.49', '3.50 - 4.00', '2.50 - 2.99', '2.00 - 2.49', '0 - 1.99']\n",
       "Categories (5, object): ['0 - 1.99' < '2.00 - 2.49' < '2.50 - 2.99' < '3.00 - 3.49' < '3.50 - 4.00']"
      ]
     },
     "execution_count": 530,
     "metadata": {},
     "output_type": "execute_result"
    }
   ],
   "source": [
    "# Check the unique values in the 'CGPA' column\n",
    "mental_health['CGPA'].unique()"
   ]
  },
  {
   "cell_type": "code",
   "execution_count": 531,
   "id": "9df580d3-1ac1-4831-a869-693e2c8f938c",
   "metadata": {},
   "outputs": [
    {
     "data": {
      "text/plain": [
       "array(['No', 'Yes'], dtype=object)"
      ]
     },
     "execution_count": 531,
     "metadata": {},
     "output_type": "execute_result"
    }
   ],
   "source": [
    "# Check the unique values in the 'Marital_status' column\n",
    "mental_health['Marital_status'].unique()"
   ]
  },
  {
   "cell_type": "code",
   "execution_count": 532,
   "id": "7e1dbc5f-b881-40b6-8794-4ac89cd183c6",
   "metadata": {},
   "outputs": [
    {
     "data": {
      "text/plain": [
       "array(['Yes', 'No'], dtype=object)"
      ]
     },
     "execution_count": 532,
     "metadata": {},
     "output_type": "execute_result"
    }
   ],
   "source": [
    "# Check the unique values in the 'Depression' column\n",
    "mental_health['Depression'].unique()"
   ]
  },
  {
   "cell_type": "code",
   "execution_count": 533,
   "id": "f8eecad8-da11-492d-9826-d08c8607babe",
   "metadata": {},
   "outputs": [
    {
     "data": {
      "text/plain": [
       "array(['No', 'Yes'], dtype=object)"
      ]
     },
     "execution_count": 533,
     "metadata": {},
     "output_type": "execute_result"
    }
   ],
   "source": [
    "# Check the unique values in the 'Anxiety' column\n",
    "mental_health['Anxiety'].unique()"
   ]
  },
  {
   "cell_type": "code",
   "execution_count": 534,
   "id": "acc0904c-dbd4-470a-8dfb-5aefe6e339ce",
   "metadata": {},
   "outputs": [
    {
     "data": {
      "text/plain": [
       "array(['Yes', 'No'], dtype=object)"
      ]
     },
     "execution_count": 534,
     "metadata": {},
     "output_type": "execute_result"
    }
   ],
   "source": [
    "# Check the unique values in the 'Panic_attack' column\n",
    "mental_health['Panic_attack'].unique()"
   ]
  },
  {
   "cell_type": "code",
   "execution_count": 535,
   "id": "dbaed528-6f85-4bde-a42b-327bbf8e74bc",
   "metadata": {},
   "outputs": [
    {
     "data": {
      "text/plain": [
       "array(['No', 'Yes'], dtype=object)"
      ]
     },
     "execution_count": 535,
     "metadata": {},
     "output_type": "execute_result"
    }
   ],
   "source": [
    "# Check the unique values in the 'Treatment_Sought' column\n",
    "mental_health['Treatment_Sought'].unique()"
   ]
  },
  {
   "cell_type": "code",
   "execution_count": 536,
   "id": "df6859f4-699c-40a5-a444-99cda166ef3a",
   "metadata": {},
   "outputs": [
    {
     "data": {
      "text/html": [
       "<div>\n",
       "<style scoped>\n",
       "    .dataframe tbody tr th:only-of-type {\n",
       "        vertical-align: middle;\n",
       "    }\n",
       "\n",
       "    .dataframe tbody tr th {\n",
       "        vertical-align: top;\n",
       "    }\n",
       "\n",
       "    .dataframe thead th {\n",
       "        text-align: right;\n",
       "    }\n",
       "</style>\n",
       "<table border=\"1\" class=\"dataframe\">\n",
       "  <thead>\n",
       "    <tr style=\"text-align: right;\">\n",
       "      <th></th>\n",
       "      <th>Gender</th>\n",
       "      <th>Age</th>\n",
       "      <th>CGPA</th>\n",
       "      <th>Marital_status</th>\n",
       "      <th>Depression</th>\n",
       "      <th>Anxiety</th>\n",
       "      <th>Panic_attack</th>\n",
       "      <th>Treatment_Sought</th>\n",
       "      <th>Course_Category</th>\n",
       "      <th>Year_of_Study</th>\n",
       "    </tr>\n",
       "  </thead>\n",
       "  <tbody>\n",
       "    <tr>\n",
       "      <th>0</th>\n",
       "      <td>Female</td>\n",
       "      <td>18.0</td>\n",
       "      <td>3.00 - 3.49</td>\n",
       "      <td>No</td>\n",
       "      <td>Yes</td>\n",
       "      <td>No</td>\n",
       "      <td>Yes</td>\n",
       "      <td>No</td>\n",
       "      <td>Engineering</td>\n",
       "      <td>1</td>\n",
       "    </tr>\n",
       "    <tr>\n",
       "      <th>1</th>\n",
       "      <td>Male</td>\n",
       "      <td>21.0</td>\n",
       "      <td>3.00 - 3.49</td>\n",
       "      <td>No</td>\n",
       "      <td>No</td>\n",
       "      <td>Yes</td>\n",
       "      <td>No</td>\n",
       "      <td>No</td>\n",
       "      <td>Religious Studies</td>\n",
       "      <td>2</td>\n",
       "    </tr>\n",
       "    <tr>\n",
       "      <th>2</th>\n",
       "      <td>Male</td>\n",
       "      <td>19.0</td>\n",
       "      <td>3.00 - 3.49</td>\n",
       "      <td>No</td>\n",
       "      <td>Yes</td>\n",
       "      <td>Yes</td>\n",
       "      <td>Yes</td>\n",
       "      <td>No</td>\n",
       "      <td>IT</td>\n",
       "      <td>1</td>\n",
       "    </tr>\n",
       "    <tr>\n",
       "      <th>3</th>\n",
       "      <td>Female</td>\n",
       "      <td>22.0</td>\n",
       "      <td>3.00 - 3.49</td>\n",
       "      <td>Yes</td>\n",
       "      <td>Yes</td>\n",
       "      <td>No</td>\n",
       "      <td>No</td>\n",
       "      <td>No</td>\n",
       "      <td>Law</td>\n",
       "      <td>3</td>\n",
       "    </tr>\n",
       "    <tr>\n",
       "      <th>4</th>\n",
       "      <td>Male</td>\n",
       "      <td>23.0</td>\n",
       "      <td>3.00 - 3.49</td>\n",
       "      <td>No</td>\n",
       "      <td>No</td>\n",
       "      <td>No</td>\n",
       "      <td>No</td>\n",
       "      <td>No</td>\n",
       "      <td>Mathematics</td>\n",
       "      <td>4</td>\n",
       "    </tr>\n",
       "  </tbody>\n",
       "</table>\n",
       "</div>"
      ],
      "text/plain": [
       "   Gender   Age         CGPA Marital_status Depression Anxiety Panic_attack  \\\n",
       "0  Female  18.0  3.00 - 3.49             No        Yes      No          Yes   \n",
       "1    Male  21.0  3.00 - 3.49             No         No     Yes           No   \n",
       "2    Male  19.0  3.00 - 3.49             No        Yes     Yes          Yes   \n",
       "3  Female  22.0  3.00 - 3.49            Yes        Yes      No           No   \n",
       "4    Male  23.0  3.00 - 3.49             No         No      No           No   \n",
       "\n",
       "  Treatment_Sought    Course_Category  Year_of_Study  \n",
       "0               No        Engineering              1  \n",
       "1               No  Religious Studies              2  \n",
       "2               No                 IT              1  \n",
       "3               No                Law              3  \n",
       "4               No        Mathematics              4  "
      ]
     },
     "execution_count": 536,
     "metadata": {},
     "output_type": "execute_result"
    }
   ],
   "source": [
    "# review the data\n",
    "mental_health.head()"
   ]
  },
  {
   "cell_type": "markdown",
   "id": "295a00d1-41d7-48c4-bc43-0f5b6b9e3ba4",
   "metadata": {},
   "source": [
    "## Step 3. Understanding the Demographics"
   ]
  },
  {
   "cell_type": "code",
   "execution_count": 537,
   "id": "a38dd48f-da65-4aa4-81a0-b5d8e7c8e80e",
   "metadata": {},
   "outputs": [
    {
     "data": {
      "image/png": "[encoded data removed]",
      "text/plain": [
       "<Figure size 640x480 with 1 Axes>"
      ]
     },
     "metadata": {},
     "output_type": "display_data"
    },
    {
     "data": {
      "text/plain": [
       "<Figure size 640x480 with 0 Axes>"
      ]
     },
     "metadata": {},
     "output_type": "display_data"
    }
   ],
   "source": [
    "# gender distribution \n",
    "mental_health['Gender'].value_counts().plot.pie(autopct='%1.1f%%')\n",
    "plt.title('Gender Distribution')\n",
    "plt.show()\n",
    "plt.clf()"
   ]
  },
  {
   "cell_type": "markdown",
   "id": "266e25e0-d56e-44e6-bd73-ea898ea536c3",
   "metadata": {},
   "source": [
    "The majority of students, accounting for 75.0%, are males, indicating a predominant male representation among the surveyed student population."
   ]
  },
  {
   "cell_type": "code",
   "execution_count": 538,
   "id": "1b90be52-50fb-475a-a458-c21f277e4173",
   "metadata": {},
   "outputs": [
    {
     "name": "stdout",
     "output_type": "stream",
     "text": [
      "Average Age: 20.53\n"
     ]
    }
   ],
   "source": [
    "# distribution of gender among the students\n",
    "# Average age of students\n",
    "avg_age = mental_health['Age'].mean()\n",
    "print(f\"Average Age: {avg_age}\")"
   ]
  },
  {
   "cell_type": "code",
   "execution_count": 539,
   "id": "bc04cdb9-b025-479d-adb6-4b6687b8b842",
   "metadata": {},
   "outputs": [
    {
     "name": "stdout",
     "output_type": "stream",
     "text": [
      "Median of Ages: 19.0\n"
     ]
    }
   ],
   "source": [
    "# Median of age of students\n",
    "median_age = mental_health['Age'].median()\n",
    "print(f\"Median of Ages: {median_age}\")"
   ]
  },
  {
   "cell_type": "code",
   "execution_count": 540,
   "id": "5d6b128d-6355-4628-850e-2e72f5aaf67a",
   "metadata": {},
   "outputs": [
    {
     "name": "stdout",
     "output_type": "stream",
     "text": [
      "Range of Ages: 6.0\n"
     ]
    }
   ],
   "source": [
    "# Range of ages of students\n",
    "range_of_ages = mental_health['Age'].max() - mental_health['Age'].min()\n",
    "print(f\"Range of Ages: {range_of_ages}\")"
   ]
  },
  {
   "cell_type": "code",
   "execution_count": 541,
   "id": "e27afba9-2765-4fa9-9f30-3734c6fbffd9",
   "metadata": {},
   "outputs": [
    {
     "data": {
      "image/png": "[encoded data removed]",
      "text/plain": [
       "<Figure size 640x480 with 1 Axes>"
      ]
     },
     "metadata": {},
     "output_type": "display_data"
    },
    {
     "data": {
      "text/plain": [
       "<Figure size 640x480 with 0 Axes>"
      ]
     },
     "metadata": {},
     "output_type": "display_data"
    }
   ],
   "source": [
    "# Histogram for Ages\n",
    "sns.histplot(x='Age', data=mental_health)\n",
    "plt.title('Distribution of Ages')\n",
    "plt.show()\n",
    "plt.clf()"
   ]
  },
  {
   "cell_type": "markdown",
   "id": "fa650953-bd6a-4b47-a633-9c8f1884abfa",
   "metadata": {},
   "source": [
    "The histogram provides a visual representation of the ***distribution of ages among the students***. Notably, the distribution appears bimodal, featuring two prominent peaks skewed towards each other. The highest frequency occurs at ages 18 and 24 years old, indicating a concentration of students within these age brackets. This bimodal pattern suggests the presence of two distinct age groups within the dataset."
   ]
  },
  {
   "cell_type": "code",
   "execution_count": 542,
   "id": "1d706b6e-d1de-4d84-88e1-c63ad815c23a",
   "metadata": {},
   "outputs": [
    {
     "data": {
      "image/png": "[encoded data removed]",
      "text/plain": [
       "<Figure size 640x480 with 1 Axes>"
      ]
     },
     "metadata": {},
     "output_type": "display_data"
    },
    {
     "data": {
      "text/plain": [
       "<Figure size 640x480 with 0 Axes>"
      ]
     },
     "metadata": {},
     "output_type": "display_data"
    }
   ],
   "source": [
    "# Marital status distribution amonth the students\n",
    "mental_health['Marital_status'].value_counts().plot.pie(autopct='%1.1f%%')\n",
    "plt.title('Distribution of Marital Status')\n",
    "plt.show()\n",
    "plt.clf()"
   ]
  },
  {
   "cell_type": "markdown",
   "id": "c3d77206-1ea7-4c33-b872-12d19e21986b",
   "metadata": {},
   "source": [
    "The pie chart illustrates that the majority of students (84.0%) are not in any marital status, indicating a significant portion of the surveyed individuals falls into this category."
   ]
  },
  {
   "cell_type": "markdown",
   "id": "e195b830-0ee4-4c6f-99d2-f3a3e70abaae",
   "metadata": {},
   "source": [
    "## Step 4. Academic Profile Exploration"
   ]
  },
  {
   "cell_type": "code",
   "execution_count": 543,
   "id": "e9386f59-a9ed-45e2-91d8-fdc3dfad4dcd",
   "metadata": {},
   "outputs": [
    {
     "data": {
      "image/png": "[encoded data removed]",
      "text/plain": [
       "<Figure size 640x480 with 1 Axes>"
      ]
     },
     "metadata": {},
     "output_type": "display_data"
    },
    {
     "data": {
      "text/plain": [
       "<Figure size 640x480 with 0 Axes>"
      ]
     },
     "metadata": {},
     "output_type": "display_data"
    }
   ],
   "source": [
    "# Bar chart for Cumulative Grade Point Average (CGPA)\n",
    "sns.countplot(data=mental_health, x='CGPA')\n",
    "plt.title('CGPA Distribution')\n",
    "plt.show()\n",
    "plt.clf()"
   ]
  },
  {
   "cell_type": "code",
   "execution_count": 544,
   "id": "f765d43b-27ab-4eaa-a2aa-a545a7e09ea3",
   "metadata": {},
   "outputs": [
    {
     "data": {
      "text/plain": [
       "CGPA\n",
       "3.50 - 4.00    48.0\n",
       "3.00 - 3.49    43.0\n",
       "2.50 - 2.99     4.0\n",
       "0 - 1.99        3.0\n",
       "2.00 - 2.49     2.0\n",
       "Name: proportion, dtype: float64"
      ]
     },
     "execution_count": 544,
     "metadata": {},
     "output_type": "execute_result"
    }
   ],
   "source": [
    "# percentage distribution of each category\n",
    "mental_health['CGPA'].value_counts(normalize=True) * 100"
   ]
  },
  {
   "cell_type": "markdown",
   "id": "846c1db5-303c-4beb-8ca0-0aa1d0274355",
   "metadata": {},
   "source": [
    "The majority of students have a CGPA result in the range of 3.50 - 4.00, constituting 48.0% of the total. Additionally, a significant percentage of students, 43.0%, fall into the CGPA range of 3.00 - 3.49."
   ]
  },
  {
   "cell_type": "code",
   "execution_count": 545,
   "id": "94621d03-b863-4814-bc7a-1009124c034d",
   "metadata": {},
   "outputs": [
    {
     "data": {
      "image/png": "[encoded data removed]",
      "text/plain": [
       "<Figure size 640x480 with 1 Axes>"
      ]
     },
     "metadata": {},
     "output_type": "display_data"
    },
    {
     "data": {
      "text/plain": [
       "<Figure size 640x480 with 0 Axes>"
      ]
     },
     "metadata": {},
     "output_type": "display_data"
    }
   ],
   "source": [
    "# bar chart for Year of Study\n",
    "sns.countplot(data=mental_health, x = 'Year_of_Study')\n",
    "plt.title('Year of Study Distribution')\n",
    "plt.show()\n",
    "plt.clf()"
   ]
  },
  {
   "cell_type": "markdown",
   "id": "948a1b13-327e-4ff5-b359-7ca1cbd5caf5",
   "metadata": {},
   "source": [
    "The chart illustrates the distribution of students across different academic years. Over 40% of the students are in their 1st year of study, approximately 25% are in the 2nd year, and another 25% are in the 3rd year. A minority of students, less than 10%, are in their fourth year of study."
   ]
  },
  {
   "cell_type": "code",
   "execution_count": 546,
   "id": "e84924f6-65e9-44cd-ad19-57bbe270f45c",
   "metadata": {},
   "outputs": [
    {
     "data": {
      "text/plain": [
       "Course_Category\n",
       "IT                         29.0\n",
       "Engineering                27.0\n",
       "Religious Studies          11.0\n",
       "Medical Science             8.0\n",
       "Language Studies            7.0\n",
       "Business                    5.0\n",
       "Social Sciences             4.0\n",
       "Law                         3.0\n",
       "Media and Communication     2.0\n",
       "Mathematics                 1.0\n",
       "Environmental Science       1.0\n",
       "Economics                   1.0\n",
       "Biotechnology               1.0\n",
       "Name: proportion, dtype: float64"
      ]
     },
     "execution_count": 546,
     "metadata": {},
     "output_type": "execute_result"
    }
   ],
   "source": [
    "# the distribution of the the values of the 'Course_Category' column \n",
    "mental_health['Course_Category'].value_counts(normalize=True) * 100"
   ]
  },
  {
   "cell_type": "markdown",
   "id": "8bb54cad-7036-4ae7-ac71-e4a0ac09ad06",
   "metadata": {},
   "source": [
    "## Step 5. Exploring the relationship between Cumulative Grade Point Average (CGPA) and Depression"
   ]
  },
  {
   "cell_type": "code",
   "execution_count": 547,
   "id": "3ea1047a-b24f-425b-bb14-258b9e0c9a65",
   "metadata": {},
   "outputs": [
    {
     "data": {
      "image/png": "[encoded data removed]",
      "text/plain": [
       "<Figure size 640x480 with 1 Axes>"
      ]
     },
     "metadata": {},
     "output_type": "display_data"
    },
    {
     "data": {
      "text/plain": [
       "<Figure size 640x480 with 0 Axes>"
      ]
     },
     "metadata": {},
     "output_type": "display_data"
    }
   ],
   "source": [
    "# Depression distribution amonth the students\n",
    "mental_health['Depression'].value_counts().plot.pie(autopct='%1.1f%%')\n",
    "plt.title('Distribution of Depression')\n",
    "plt.show()\n",
    "plt.clf()"
   ]
  },
  {
   "cell_type": "markdown",
   "id": "25c661cd-7fd6-4b55-b74d-1a7bb2f9be21",
   "metadata": {},
   "source": [
    "As the majority of the students have grades between 3.00 - 4.00, I'll compare them according to the grade level, dividing into `low_grade` (3.00-3.49) and `high_grade` (3.50 - 4.00)."
   ]
  },
  {
   "cell_type": "code",
   "execution_count": 548,
   "id": "7a638756-2231-422a-8dd5-83031a153057",
   "metadata": {},
   "outputs": [],
   "source": [
    "# Filter the data\n",
    "grade_filt = mental_health[mental_health['CGPA'].isin(['3.00 - 3.49', '3.50 - 4.00'])].copy()\n",
    "\n",
    "# Create a new column 'high_grade' in the filtered DataFrame\n",
    "grade_filt['high_grade'] = grade_filt['CGPA'].isin(['3.50 - 4.00'])\n",
    "\n",
    "grade_filt['high_grade'] = grade_filt['high_grade'].map({True: 'Yes', False: 'No'})\n"
   ]
  },
  {
   "cell_type": "code",
   "execution_count": 549,
   "id": "34c8f5ac-b533-4716-a446-15f38e971322",
   "metadata": {},
   "outputs": [
    {
     "data": {
      "text/html": [
       "<div>\n",
       "<style scoped>\n",
       "    .dataframe tbody tr th:only-of-type {\n",
       "        vertical-align: middle;\n",
       "    }\n",
       "\n",
       "    .dataframe tbody tr th {\n",
       "        vertical-align: top;\n",
       "    }\n",
       "\n",
       "    .dataframe thead th {\n",
       "        text-align: right;\n",
       "    }\n",
       "</style>\n",
       "<table border=\"1\" class=\"dataframe\">\n",
       "  <thead>\n",
       "    <tr style=\"text-align: right;\">\n",
       "      <th>Depression</th>\n",
       "      <th>No</th>\n",
       "      <th>Yes</th>\n",
       "    </tr>\n",
       "    <tr>\n",
       "      <th>high_grade</th>\n",
       "      <th></th>\n",
       "      <th></th>\n",
       "    </tr>\n",
       "  </thead>\n",
       "  <tbody>\n",
       "    <tr>\n",
       "      <th>No</th>\n",
       "      <td>24</td>\n",
       "      <td>19</td>\n",
       "    </tr>\n",
       "    <tr>\n",
       "      <th>Yes</th>\n",
       "      <td>35</td>\n",
       "      <td>13</td>\n",
       "    </tr>\n",
       "  </tbody>\n",
       "</table>\n",
       "</div>"
      ],
      "text/plain": [
       "Depression  No  Yes\n",
       "high_grade         \n",
       "No          24   19\n",
       "Yes         35   13"
      ]
     },
     "execution_count": 549,
     "metadata": {},
     "output_type": "execute_result"
    }
   ],
   "source": [
    "# calculate a contingency table of frequencies to help them determine if categorical variables are associated\n",
    "high_grade_depression_freq = pd.crosstab(grade_filt['high_grade'],grade_filt['Depression'])\n",
    "high_grade_depression_freq"
   ]
  },
  {
   "cell_type": "code",
   "execution_count": 550,
   "id": "e46a6b99-6021-4b0e-a8cb-f8db44623545",
   "metadata": {},
   "outputs": [
    {
     "data": {
      "text/html": [
       "<div>\n",
       "<style scoped>\n",
       "    .dataframe tbody tr th:only-of-type {\n",
       "        vertical-align: middle;\n",
       "    }\n",
       "\n",
       "    .dataframe tbody tr th {\n",
       "        vertical-align: top;\n",
       "    }\n",
       "\n",
       "    .dataframe thead th {\n",
       "        text-align: right;\n",
       "    }\n",
       "</style>\n",
       "<table border=\"1\" class=\"dataframe\">\n",
       "  <thead>\n",
       "    <tr style=\"text-align: right;\">\n",
       "      <th>Depression</th>\n",
       "      <th>No</th>\n",
       "      <th>Yes</th>\n",
       "    </tr>\n",
       "    <tr>\n",
       "      <th>high_grade</th>\n",
       "      <th></th>\n",
       "      <th></th>\n",
       "    </tr>\n",
       "  </thead>\n",
       "  <tbody>\n",
       "    <tr>\n",
       "      <th>No</th>\n",
       "      <td>0.263736</td>\n",
       "      <td>0.208791</td>\n",
       "    </tr>\n",
       "    <tr>\n",
       "      <th>Yes</th>\n",
       "      <td>0.384615</td>\n",
       "      <td>0.142857</td>\n",
       "    </tr>\n",
       "  </tbody>\n",
       "</table>\n",
       "</div>"
      ],
      "text/plain": [
       "Depression        No       Yes\n",
       "high_grade                    \n",
       "No          0.263736  0.208791\n",
       "Yes         0.384615  0.142857"
      ]
     },
     "execution_count": 550,
     "metadata": {},
     "output_type": "execute_result"
    }
   ],
   "source": [
    "# convert the table of frequencies to a table of proportions\n",
    "high_grade_depression_proportions = high_grade_depression_freq/len(grade_filt)\n",
    "high_grade_depression_proportions"
   ]
  },
  {
   "cell_type": "code",
   "execution_count": 551,
   "id": "37828644-1af3-45ed-a409-9fa4f2f20a01",
   "metadata": {},
   "outputs": [
    {
     "name": "stdout",
     "output_type": "stream",
     "text": [
      "Expected frequencies: [[27.87912088 15.12087912]\n",
      " [31.12087912 16.87912088]]\n",
      "Chi-squared: 2.208106161620517\n",
      "P-value: 0.13728711683063424\n",
      "Degrees of freedom: 1\n"
     ]
    }
   ],
   "source": [
    "# calculate the expected contingency table (if there were no association) and the Chi-Square statistic\n",
    "chi2, pval, dof, expected = chi2_contingency(high_grade_depression_freq)\n",
    "print(\"Expected frequencies:\", expected)\n",
    "print(\"Chi-squared:\", chi2)\n",
    "print(\"P-value:\", pval)\n",
    "print(\"Degrees of freedom:\", dof)"
   ]
  },
  {
   "cell_type": "markdown",
   "id": "da69e191-4c66-41be-8278-3149c2261559",
   "metadata": {},
   "source": [
    "The chi-squared test results in a statistic of approximately 2.21 with degrees of freedom, indicating a weak association between 'high Cumulative Grade Point Average (CGPA)' and 'Depression' among the examined students. The p-value associated with this test is approximately 0.137. Since the p-value is greater than the significance level (e.g., 0.05), we fail to reject the null hypothesis. This suggests that there is no evidence of an association between 'high CGPA' and 'Depression.' It's important to note that while the association is statistically significant, the chi-squared value of 2.21 indicates a relatively weak strength of association."
   ]
  },
  {
   "cell_type": "markdown",
   "id": "f6060c7e-d804-403d-a552-6c05edd41c52",
   "metadata": {},
   "source": [
    "## Conclusion\n",
    "\n",
    "- The examined group is predominantly composed of females (75.0%), exhibiting a bimodal distribution of ages with the highest frequency observed at ages 18 and 24 years old.\n",
    "The majority of students are not married (84.0%).\n",
    "- More than 90.0% of students have a Cumulative Grade Point Average (CGPA) within the range of 3.00 - 4.00.\n",
    "- Over 40% of students are in their 1st year of study, approximately 25% are in the 2nd year, and another 25% are in the 3rd year. A minority of students, less than 10%, are in their fourth year of study.\n",
    "- The exploration of the association between grades and the occurrence of depression indicated that we can't reject the null hypothesis, and there's no evidence of a significant association. It's important to note that the sample, consisting of only 100 students, may not be very representative due to its dispersity and limited size."
   ]
  }
 ],
 "metadata": {
  "kernelspec": {
   "display_name": "Python 3 (ipykernel)",
   "language": "python",
   "name": "python3"
  },
  "language_info": {
   "codemirror_mode": {
    "name": "ipython",
    "version": 3
   },
   "file_extension": ".py",
   "mimetype": "text/x-python",
   "name": "python",
   "nbconvert_exporter": "python",
   "pygments_lexer": "ipython3",
   "version": "3.11.5"
  }
 },
 "nbformat": 4,
 "nbformat_minor": 5
}
