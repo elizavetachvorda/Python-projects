{
 "cells": [
  {
   "cell_type": "markdown",
   "metadata": {},
   "source": [
    "# U.S. Medical Insurance Costs\n",
    "\n",
    "This data analysis project aims to investigate medical insurance costs among different groups of the population and gain insights from the data. By applying analytical skills and using Python fundamentals, I explored the insurance.csv dataset to analyze the data."
   ]
  },
  {
   "cell_type": "code",
   "execution_count": 2,
   "metadata": {},
   "outputs": [],
   "source": [
    "# Import a csv library\n",
    "import csv"
   ]
  },
  {
   "cell_type": "markdown",
   "metadata": {},
   "source": [
    "As the next step, I will utilize the **csv.DictReader** class, which enables me to read a CSV file and access the data using dictionary keys. This will facilitate easier manipulation and analysis of the data."
   ]
  },
  {
   "cell_type": "code",
   "execution_count": 3,
   "metadata": {
    "scrolled": true
   },
   "outputs": [],
   "source": [
    "# Specify the CSV file path\n",
    "csv_file_path = 'insurance.csv'\n",
    "\n",
    "# Create an empty list to store the patient records\n",
    "data = []\n",
    "# Open the CSV file in read mode\n",
    "with open(csv_file_path, 'r', newline='') as file:\n",
    "    # Create a DictReader object\n",
    "    csv_dict_reader = csv.DictReader(file)\n",
    "\n",
    "    # Iterate through each row in the CSV file\n",
    "    for row in csv_dict_reader:\n",
    "        # Access each value using dictionary keys\n",
    "        age = row['age']\n",
    "        sex = row['sex']\n",
    "        bmi = row['bmi']\n",
    "        children = row['children']\n",
    "        smoker = row['smoker']\n",
    "        region = row['region']\n",
    "        charges = row['charges']\n",
    "\n",
    "        # Create a dictionary representing a patient record\n",
    "        record = {\n",
    "            'age': age,\n",
    "            'sex': sex,\n",
    "            'bmi': bmi,\n",
    "            'children': children,\n",
    "            'smoker': smoker,\n",
    "            'region': region,\n",
    "            'charges': charges\n",
    "        }\n",
    "\n",
    "        # Append the record to the data list\n",
    "        data.append(record)\n"
   ]
  },
  {
   "cell_type": "markdown",
   "metadata": {},
   "source": [
    "**insurance.csv** contains the following columns:\n",
    "\n",
    "* ***age***: age of primary beneficiary\n",
    "\n",
    "* ***sex***: insurance contractor gender, female, male\n",
    "\n",
    "* ***bmi***: Body mass index, providing an understanding of body, weights that are relatively high or low relative to height, objective index of body weight (kg / m ^ 2) using the ratio of height to weight, ideally 18.5 to 24.9\n",
    "\n",
    "* ***children***: Number of children covered by health insurance / Number of dependents\n",
    "\n",
    "* ***smoker***: Smoking\n",
    "\n",
    "* ***region***: the beneficiary's residential area in the US, northeast, southeast, southwest, northwest.\n",
    "\n",
    "* ***charges***: Individual medical costs billed by health insurance\n",
    "  \n",
    "There are no signs of missing data. "
   ]
  },
  {
   "cell_type": "markdown",
   "metadata": {},
   "source": [
    "Once our data is imported, neatly organized, and stored in a dictionary, we can begin our analysis. First of all, we need to plan what to investigate. The following operations will be implemented:\n",
    "\n",
    "- Find the proportions between males and females in the dataset.\n",
    "- Calculate the average insurance charge for each gender.\n",
    "\n",
    "Based on the results obtained, we can further explore the reasons behind the differences (or lack thereof) in charges between males and females. We will perform the following investigations:\n",
    "\n",
    "- Compare the average age for each gender group.\n",
    "- Calculate the discrepancy of the average insurance charges between males and females with different numbers of children.\n",
    "- Analyze the distribution of overweight individuals (BMI between 25.0 and <30) and obese individuals (BMI >= 30) between males and females.\n",
    "- Calculate the percentage of smokers in each gender group.\n",
    "\n",
    "By conducting these analyses, we can gain insights into potential factors influencing the differences in charges between males and females."
   ]
  },
  {
   "cell_type": "markdown",
   "metadata": {},
   "source": [
    "To perform these inspections, a class called `InsuranceAnalysis` has been built out which contains fives methods:\n",
    "* `gender_proportions()`\n",
    "* `average_charge_per_gender()`\n",
    "* `average_age_per_gender()`\n",
    "* `children_discrepancy()`\n",
    "* `bmi_distribution()`\n",
    "* `smoker_percentage()`\n",
    "\n",
    "The class has been built out below."
   ]
  },
  {
   "cell_type": "code",
   "execution_count": 124,
   "metadata": {},
   "outputs": [],
   "source": [
    "class InsuranceAnalysis:\n",
    "    def __init__(self, data):\n",
    "        self.data = data\n",
    "        \n",
    "# method to calculate the proportions between males and females in percentage within the dataset\n",
    "    def gender_proportions(self):\n",
    "        total_count = len(self.data)\n",
    "        male_count = sum(1 for record in self.data if record['sex'] == 'male')\n",
    "        female_count = sum(1 for record in self.data if record['sex'] == 'female')\n",
    "        male_proportion = male_count / total_count \n",
    "        female_proportion = female_count / total_count \n",
    "        return \"The proportion of males is: {:.2%}, females: {:.2%}\".format(male_proportion, female_proportion)\n",
    "\n",
    "# method to find the average insurance charge for each gender\n",
    "    def average_charge_per_gender(self):\n",
    "        total_male_count = 0\n",
    "        total_male_charge = 0\n",
    "        total_female_count = 0\n",
    "        total_female_charge = 0\n",
    "        for record in self.data:\n",
    "            if record['sex'] == 'male':\n",
    "                total_male_count += 1\n",
    "                total_male_charge += float(record['charges'])\n",
    "            elif record['sex'] == 'female':\n",
    "                total_female_count += 1\n",
    "                total_female_charge += float(record['charges'])\n",
    "        average_male_charge = total_male_charge / total_male_count\n",
    "        average_female_charge = total_female_charge / total_female_count\n",
    "        return \"Average charge fo males:\", round(average_male_charge,2), \"females: \", round(average_female_charge,2)\n",
    "\n",
    "# method that allows us to ivestigate average age among males and females\n",
    "    def average_age_per_gender(self):\n",
    "        total_male_count = 0\n",
    "        total_male_age = 0\n",
    "        total_female_count = 0\n",
    "        total_female_age = 0\n",
    "        for record in self.data:\n",
    "            if record['sex'] == 'male':\n",
    "                total_male_count += 1\n",
    "                total_male_age += int(record['age'])\n",
    "            elif record['sex'] == 'female':\n",
    "                total_female_count += 1\n",
    "                total_female_age += int(record['age'])\n",
    "        average_male_age = total_male_age / total_male_count\n",
    "        average_female_age = total_female_age / total_female_count\n",
    "        return \"Average age of males is:\", round(average_male_age), \"females: \", round(average_female_age)\n",
    "\n",
    "# method to analyze the impact of the number of children on insurance charges for males and females\n",
    "    def children_discrepancy(self):\n",
    "        children_discrepancy = {}\n",
    "        \n",
    "        # Group the data by the number of children\n",
    "        children_groups = {}\n",
    "        for record in self.data:\n",
    "            children = record['children']\n",
    "            if children not in children_groups:\n",
    "                children_groups[children] = {'male_charges': [], 'female_charges': []}\n",
    "            if record['sex'] == 'male':\n",
    "                children_groups[children]['male_charges'].append(float(record['charges']))\n",
    "            elif record['sex'] == 'female':\n",
    "                children_groups[children]['female_charges'].append(float(record['charges']))\n",
    "        \n",
    "        # Calculate the discrepancy of insurance charges between males and females for each group\n",
    "        for children, charges in children_groups.items():\n",
    "            male_average_charge = sum(charges['male_charges']) / len(charges['male_charges'])\n",
    "            female_average_charge = sum(charges['female_charges']) / len(charges['female_charges'])\n",
    "            children_discrepancy[children] = female_average_charge - male_average_charge\n",
    "            # Sort the dictionary by keys (number of children) in ascending order\n",
    "            sorted_discrepancy = dict(sorted(children_discrepancy.items()))\n",
    "        \n",
    "        return sorted_discrepancy\n",
    "    \n",
    "# method that let know proportions of individuals of each gender have more than have overweight or obesity\n",
    "    def bmi_distribution(self):\n",
    "        overweight_male_count = 0\n",
    "        obese_male_count = 0\n",
    "        total_male_count = 0\n",
    "        overweight_female_count = 0\n",
    "        obese_female_count = 0\n",
    "        total_female_count = 0\n",
    "        for record in self.data:\n",
    "            if record['sex'] == 'male':\n",
    "                total_male_count += 1\n",
    "                bmi = float(record['bmi'])\n",
    "                if 25.0 <= bmi < 30:\n",
    "                    overweight_male_count += 1\n",
    "                elif bmi >= 30:\n",
    "                    obese_male_count += 1\n",
    "            if record['sex'] == 'female':\n",
    "                total_female_count += 1\n",
    "                bmi = float(record['bmi'])\n",
    "                if 25.0 <= bmi < 30:\n",
    "                    overweight_female_count += 1\n",
    "                elif bmi >= 30:\n",
    "                    obese_female_count += 1\n",
    "        overweight_male_proportion = overweight_male_count / total_male_count\n",
    "        obese_male_proportion = obese_male_count / total_male_count\n",
    "        overweight_female_proportion = overweight_female_count / total_female_count\n",
    "        obese_female_proportion = obese_female_count / total_female_count\n",
    "        return \"The proportion of overweight between male and female is {:.2%} and {:.2%} respectively\".format(overweight_male_proportion,overweight_female_proportion), \"The proportion of obesity between male and female is {:.2%} and {:.2%} respectively\".format(obese_male_proportion,obese_female_proportion)\n",
    "        \n",
    "# method that allows us to explore the prevalence of smokers among males and females\n",
    "    def smoker_percentage(self):\n",
    "        total_male_count = 0\n",
    "        smoker_male_count = 0\n",
    "        total_female_count = 0\n",
    "        smoker_female_count = 0\n",
    "        for record in self.data:\n",
    "            if record['sex'] == 'male':\n",
    "                total_male_count += 1\n",
    "                if record['smoker'] == 'yes':\n",
    "                    smoker_male_count += 1\n",
    "            if record['sex'] == 'female':\n",
    "                total_female_count += 1\n",
    "                if record['smoker'] == 'yes':\n",
    "                    smoker_female_count += 1\n",
    "        smoker_male_percentage = (smoker_male_count / total_male_count)\n",
    "        smoker_female_percentage = (smoker_female_count / total_female_count)\n",
    "        return \"Percentage of smokers among males is {:.2%}, females: {:.2%}\".format(smoker_male_percentage,smoker_female_percentage)\n",
    "        "
   ]
  },
  {
   "cell_type": "markdown",
   "metadata": {},
   "source": [
    "The next step is to create an instance of the class called `insurance_analysis`. With this instance, each method can be used to see the results of the analysis."
   ]
  },
  {
   "cell_type": "code",
   "execution_count": 125,
   "metadata": {},
   "outputs": [],
   "source": [
    "# Create an instance of the InsuranceAnalysis class with the data argument\n",
    "insurance = InsuranceAnalysis(data)"
   ]
  },
  {
   "cell_type": "code",
   "execution_count": 37,
   "metadata": {},
   "outputs": [
    {
     "data": {
      "text/plain": [
       "'The proportion of males is: 50.52%, females: 49.48%'"
      ]
     },
     "execution_count": 37,
     "metadata": {},
     "output_type": "execute_result"
    }
   ],
   "source": [
    "insurance.gender_proportions()"
   ]
  },
  {
   "cell_type": "markdown",
   "metadata": {},
   "source": [
    "This step of the analysis examines the gender balance in the **insurance.csv** dataset. It is crucial to verify if this dataset represents a broader population of individuals. When using this dataset to create a classification model, it becomes imperative to ensure that the attributes are balanced.\n",
    "\n",
    "The results indicate that the ***distribution of genders in the sample is nearly equal***, which is a positive factor as it helps in creating a more representative and unbiased classification model."
   ]
  },
  {
   "cell_type": "code",
   "execution_count": 60,
   "metadata": {},
   "outputs": [
    {
     "data": {
      "text/plain": [
       "('Average charge fo males:', 13956.75, 'females: ', 12569.58)"
      ]
     },
     "execution_count": 60,
     "metadata": {},
     "output_type": "execute_result"
    }
   ],
   "source": [
    "insurance.average_charge_per_gender()"
   ]
  },
  {
   "cell_type": "markdown",
   "metadata": {},
   "source": [
    "On average, males tend to pay slightly more than females, with a difference of approximately $1400 per year. This finding highlights ***a gender-based discrepancy in insurance charges***, suggesting that there may be factors influencing the pricing that vary between genders."
   ]
  },
  {
   "cell_type": "code",
   "execution_count": 66,
   "metadata": {
    "scrolled": true
   },
   "outputs": [
    {
     "data": {
      "text/plain": [
       "('Average age of males is:', 39, 'females: ', 40)"
      ]
     },
     "execution_count": 66,
     "metadata": {},
     "output_type": "execute_result"
    }
   ],
   "source": [
    "insurance.average_age_per_gender()"
   ]
  },
  {
   "attachments": {},
   "cell_type": "markdown",
   "metadata": {},
   "source": [
    "The average age of males is approximately 39 years old, while for females it is around 40 years old. This insight suggests that ***age alone may not be a significant factor contributing to the gender-based difference in insurance charges***, due to the fact that younger individuals tend to have lower insurance charges compared to older individuals.\n",
    "\n",
    "To delve deeper into this observation, it would be beneficial to conduct a more comprehensive analysis. This analysis should include examining the range and standard deviation of the age distribution within the 'insurance.csv' dataset. "
   ]
  },
  {
   "cell_type": "code",
   "execution_count": 126,
   "metadata": {},
   "outputs": [
    {
     "data": {
      "text/plain": [
       "{'0': -926.9824600129268,\n",
       " '1': -1112.162043343762,\n",
       " '2': -2245.777998489488,\n",
       " '3': -2923.5623521363686,\n",
       " '4': 155.38973324675135,\n",
       " '5': 1922.3481087499986}"
      ]
     },
     "execution_count": 126,
     "metadata": {},
     "output_type": "execute_result"
    }
   ],
   "source": [
    "insurance.children_discrepancy()"
   ]
  },
  {
   "cell_type": "markdown",
   "metadata": {},
   "source": [
    "The result shows that the number of children can influence the discrepancy of insurance costs between males and females. For groups with no children up to three children, on average, males have insurance costs that are lower than females. However, for groups with four or five children, females tend to have higher costs compared to males."
   ]
  },
  {
   "cell_type": "code",
   "execution_count": 105,
   "metadata": {},
   "outputs": [
    {
     "data": {
      "text/plain": [
       "('The proportion of overweight between male and female is 27.66% and 30.06% respectively',\n",
       " 'The proportion of obesity between male and female is 55.18% and 50.45% respectively')"
      ]
     },
     "execution_count": 105,
     "metadata": {},
     "output_type": "execute_result"
    }
   ],
   "source": [
    "insurance.bmi_distribution()"
   ]
  },
  {
   "cell_type": "markdown",
   "metadata": {},
   "source": [
    "***More than 55% of males in the dataset are classified as having obesity, which is almost 5% higher compared to females.*** While the distribution of overweight individuals shows a slight predominance of females, approximately 2.4%, it is important to note that obesity can be characterized as a significant risk factor that contributes to the development of various diseases and accordingly higher insurance costs.\n",
    "\n",
    "Obesity is known to be associated with various health risks and medical conditions, which may lead to increased healthcare costs and higher insurance charges. Therefore, the higher proportion of males with obesity could potentially explain the difference in insurance payments between genders."
   ]
  },
  {
   "cell_type": "code",
   "execution_count": 99,
   "metadata": {},
   "outputs": [
    {
     "data": {
      "text/plain": [
       "'Percentage of smokers among males is 23.52%, females: 17.37%'"
      ]
     },
     "execution_count": 99,
     "metadata": {},
     "output_type": "execute_result"
    }
   ],
   "source": [
    "insurance.smoker_percentage()"
   ]
  },
  {
   "cell_type": "markdown",
   "metadata": {},
   "source": [
    "***Males exhibit a significantly higher smoking prevalence, with more than a 6 percent difference compared to females.*** The increased risk associated with smoking may result in higher insurance costs for males compared to females."
   ]
  },
  {
   "cell_type": "markdown",
   "metadata": {},
   "source": [
    "## Conclusion\n",
    "\n",
    "* The analysis reveals a gender-based discrepancy in insurance charges, with ***males tending to pay slightly more than females***, approximately $1400 per year. This finding suggests that there are factors influencing the pricing that vary between genders.\n",
    "\n",
    "* For groups with ***no children up to three children, males tend to have lower costs compared to females***. However, for groups with ***four or five children, females tend to have higher costs compared to males***.\n",
    "  \n",
    "* Among the explored factors (age, BMI, smoking) one potential explanation for this difference is the ***tendency of males to have a higher prevalence of obesity*** compared to females. Obesity is known to be a significant risk factor for various diseases, and individuals with obesity are generally considered to be at higher risk, resulting in increased healthcare expenses and potentially higher insurance premiums.\n",
    "\n",
    "* Another contributing factor to the gender-based discrepancy in insurance charges is the ***higher prevalence of smoking among males***. Smoking is widely recognized as a major risk factor for several health conditions, which can lead to higher healthcare costs and insurance premiums.\n",
    "\n",
    "* By taking into account factors such as number of children, obesity and smoking prevalence, insurers can develop more accurate and fair pricing strategies.\n",
    "\n",
    "* Moreover, promoting healthy lifestyle choices and raising awareness about the health risks of obesity and smoking can help reduce the prevalence of these risk factors among both males and females. This, in turn, may lead to improved overall health outcomes and potentially lower insurance costs for everyone."
   ]
  }
 ],
 "metadata": {
  "kernelspec": {
   "display_name": "Python 3 (ipykernel)",
   "language": "python",
   "name": "python3"
  },
  "language_info": {
   "codemirror_mode": {
    "name": "ipython",
    "version": 3
   },
   "file_extension": ".py",
   "mimetype": "text/x-python",
   "name": "python",
   "nbconvert_exporter": "python",
   "pygments_lexer": "ipython3",
   "version": "3.11.5"
  }
 },
 "nbformat": 4,
 "nbformat_minor": 4
}
